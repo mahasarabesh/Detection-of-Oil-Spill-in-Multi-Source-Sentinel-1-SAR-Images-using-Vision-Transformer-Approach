{
 "cells": [
  {
   "cell_type": "code",
   "execution_count": 1,
   "metadata": {
    "execution": {
     "iopub.execute_input": "2025-01-25T06:05:25.890627Z",
     "iopub.status.busy": "2025-01-25T06:05:25.890309Z",
     "iopub.status.idle": "2025-01-25T06:05:42.681700Z",
     "shell.execute_reply": "2025-01-25T06:05:42.680951Z",
     "shell.execute_reply.started": "2025-01-25T06:05:25.890562Z"
    },
    "trusted": true
   },
   "outputs": [
    {
     "name": "stdout",
     "output_type": "stream",
     "text": [
      "Collecting rasterio\n",
      "  Downloading rasterio-1.4.3-cp310-cp310-manylinux_2_17_x86_64.manylinux2014_x86_64.whl.metadata (9.1 kB)\n",
      "Collecting affine (from rasterio)\n",
      "  Downloading affine-2.4.0-py3-none-any.whl.metadata (4.0 kB)\n",
      "Requirement already satisfied: attrs in /usr/local/lib/python3.10/dist-packages (from rasterio) (24.3.0)\n",
      "Requirement already satisfied: certifi in /usr/local/lib/python3.10/dist-packages (from rasterio) (2024.12.14)\n",
      "Requirement already satisfied: click>=4.0 in /usr/local/lib/python3.10/dist-packages (from rasterio) (8.1.7)\n",
      "Requirement already satisfied: cligj>=0.5 in /usr/local/lib/python3.10/dist-packages (from rasterio) (0.7.2)\n",
      "Requirement already satisfied: numpy>=1.24 in /usr/local/lib/python3.10/dist-packages (from rasterio) (1.26.4)\n",
      "Requirement already satisfied: click-plugins in /usr/local/lib/python3.10/dist-packages (from rasterio) (1.1.1)\n",
      "Requirement already satisfied: pyparsing in /usr/local/lib/python3.10/dist-packages (from rasterio) (3.2.0)\n",
      "Requirement already satisfied: mkl_fft in /usr/local/lib/python3.10/dist-packages (from numpy>=1.24->rasterio) (1.3.8)\n",
      "Requirement already satisfied: mkl_random in /usr/local/lib/python3.10/dist-packages (from numpy>=1.24->rasterio) (1.2.4)\n",
      "Requirement already satisfied: mkl_umath in /usr/local/lib/python3.10/dist-packages (from numpy>=1.24->rasterio) (0.1.1)\n",
      "Requirement already satisfied: mkl in /usr/local/lib/python3.10/dist-packages (from numpy>=1.24->rasterio) (2025.0.1)\n",
      "Requirement already satisfied: tbb4py in /usr/local/lib/python3.10/dist-packages (from numpy>=1.24->rasterio) (2022.0.0)\n",
      "Requirement already satisfied: mkl-service in /usr/local/lib/python3.10/dist-packages (from numpy>=1.24->rasterio) (2.4.1)\n",
      "Requirement already satisfied: intel-openmp>=2024 in /usr/local/lib/python3.10/dist-packages (from mkl->numpy>=1.24->rasterio) (2024.2.0)\n",
      "Requirement already satisfied: tbb==2022.* in /usr/local/lib/python3.10/dist-packages (from mkl->numpy>=1.24->rasterio) (2022.0.0)\n",
      "Requirement already satisfied: tcmlib==1.* in /usr/local/lib/python3.10/dist-packages (from tbb==2022.*->mkl->numpy>=1.24->rasterio) (1.2.0)\n",
      "Requirement already satisfied: intel-cmplr-lib-rt in /usr/local/lib/python3.10/dist-packages (from mkl_umath->numpy>=1.24->rasterio) (2024.2.0)\n",
      "Requirement already satisfied: intel-cmplr-lib-ur==2024.2.0 in /usr/local/lib/python3.10/dist-packages (from intel-openmp>=2024->mkl->numpy>=1.24->rasterio) (2024.2.0)\n",
      "Downloading rasterio-1.4.3-cp310-cp310-manylinux_2_17_x86_64.manylinux2014_x86_64.whl (22.2 MB)\n",
      "\u001b[2K   \u001b[90m━━━━━━━━━━━━━━━━━━━━━━━━━━━━━━━━━━━━━━━━\u001b[0m \u001b[32m22.2/22.2 MB\u001b[0m \u001b[31m77.1 MB/s\u001b[0m eta \u001b[36m0:00:00\u001b[0m:00:01\u001b[0m00:01\u001b[0m\n",
      "\u001b[?25hDownloading affine-2.4.0-py3-none-any.whl (15 kB)\n",
      "Installing collected packages: affine, rasterio\n",
      "Successfully installed affine-2.4.0 rasterio-1.4.3\n"
     ]
    }
   ],
   "source": [
    "!pip install rasterio\n",
    "import os\n",
    "import torch\n",
    "import pickle\n",
    "from tqdm import tqdm\n",
    "from collections import Counter\n",
    "from sklearn.metrics import confusion_matrix, ConfusionMatrixDisplay\n",
    "from torchvision.transforms import Compose, Normalize, Resize, RandomHorizontalFlip, RandomVerticalFlip, RandomRotation, GaussianBlur\n",
    "from torch.utils.data import Dataset, DataLoader\n",
    "from torch.nn import Linear, Module, CrossEntropyLoss, Dropout, LayerNorm\n",
    "from torch.optim import Adam\n",
    "import matplotlib.pyplot as plt\n",
    "import numpy as np\n",
    "import rasterio\n",
    "from torch import nn\n"
   ]
  },
  {
   "cell_type": "code",
   "execution_count": 2,
   "metadata": {
    "execution": {
     "iopub.execute_input": "2025-01-25T06:05:42.682952Z",
     "iopub.status.busy": "2025-01-25T06:05:42.682555Z",
     "iopub.status.idle": "2025-01-25T06:05:42.690519Z",
     "shell.execute_reply": "2025-01-25T06:05:42.689689Z",
     "shell.execute_reply.started": "2025-01-25T06:05:42.682929Z"
    },
    "trusted": true
   },
   "outputs": [],
   "source": [
    "class TifImageDataset(Dataset):\n",
    "    def __init__(self, image_dir, mask_dir, transform=None):\n",
    "        self.image_dir = image_dir\n",
    "        self.mask_dir = mask_dir\n",
    "        self.image_names = [f for f in os.listdir(image_dir) if f.endswith(\".tif\")]\n",
    "        self.transform = transform\n",
    "\n",
    "    def __len__(self):\n",
    "        return len(self.image_names)\n",
    "\n",
    "    def __getitem__(self, idx):\n",
    "        img_name = self.image_names[idx]\n",
    "        img_path = os.path.join(self.image_dir, img_name)\n",
    "        with rasterio.open(img_path) as src:\n",
    "            image = src.read()\n",
    "        image = torch.tensor(image, dtype=torch.float32)\n",
    "        for band in range(image.shape[0]):\n",
    "            band_data = image[band, :, :]\n",
    "            nan_mask = torch.isnan(band_data)\n",
    "            if nan_mask.any():\n",
    "                mean_value = band_data[~nan_mask].mean()\n",
    "                band_data[nan_mask] = mean_value\n",
    "        if image.shape[0] > 3:\n",
    "            image = image[:3, :, :]\n",
    "        elif image.shape[0] < 3:\n",
    "            image = image.expand(3, image.shape[1], image.shape[2])\n",
    "        mask_name = img_name.replace(\".tif\", \"_mask.tif\")\n",
    "        mask_path = os.path.join(self.mask_dir, mask_name)\n",
    "        with rasterio.open(mask_path) as src:\n",
    "            mask = src.read(1)\n",
    "        total_pixels = mask.size\n",
    "        non_zero_pixels = (mask > 0).sum()\n",
    "        non_zero_percentage = (non_zero_pixels / total_pixels) * 100\n",
    "        label = torch.tensor(1 if non_zero_percentage > 30 else 0, dtype=torch.long)\n",
    "        if self.transform:\n",
    "            image = self.transform(image)\n",
    "        return image, label\n"
   ]
  },
  {
   "cell_type": "code",
   "execution_count": null,
   "metadata": {
    "execution": {
     "iopub.execute_input": "2025-01-25T06:05:42.692721Z",
     "iopub.status.busy": "2025-01-25T06:05:42.692467Z",
     "iopub.status.idle": "2025-01-25T06:05:42.810057Z",
     "shell.execute_reply": "2025-01-25T06:05:42.809251Z",
     "shell.execute_reply.started": "2025-01-25T06:05:42.692699Z"
    },
    "trusted": true
   },
   "outputs": [],
   "source": [
    "# Define transformations\n",
    "input_size = 224\n",
    "transform = Compose([\n",
    "    Resize((input_size, input_size)),\n",
    "    RandomHorizontalFlip(p=0.5),\n",
    "    RandomVerticalFlip(p=0.5),\n",
    "    RandomRotation(degrees=15),\n",
    "    Normalize(mean=(0.485, 0.456, 0.406), std=(0.229, 0.224, 0.225))\n",
    "])\n",
    "\n",
    "# Initialize dataset and DataLoader\n",
    "image_dir = \"oilspilldatasetfiltered/sar_ds_r_filtered_bal/image_patches\"\n",
    "mask_dir = \"oilspilldatasetfiltered/sar_ds_r_filtered_bal/mask_patches\"\n",
    "dataset = TifImageDataset(image_dir=image_dir, mask_dir=mask_dir, transform=transform)\n",
    "data_loader = DataLoader(dataset, batch_size=2, shuffle=True)\n"
   ]
  },
  {
   "cell_type": "code",
   "execution_count": 4,
   "metadata": {
    "execution": {
     "iopub.execute_input": "2025-01-25T06:05:42.811359Z",
     "iopub.status.busy": "2025-01-25T06:05:42.811103Z",
     "iopub.status.idle": "2025-01-25T06:05:42.816687Z",
     "shell.execute_reply": "2025-01-25T06:05:42.815811Z",
     "shell.execute_reply.started": "2025-01-25T06:05:42.811332Z"
    },
    "trusted": true
   },
   "outputs": [],
   "source": [
    "class TransformerEncoderModel(nn.Module):\n",
    "    def __init__(self, input_dim, num_classes, nhead=4, num_layers=1, dim_feedforward=4):\n",
    "        super(TransformerEncoderModel, self).__init__()\n",
    "        self.embedding = nn.Linear(input_dim, dim_feedforward)\n",
    "        encoder_layer = nn.TransformerEncoderLayer(d_model=dim_feedforward, nhead=nhead)\n",
    "        self.transformer_encoder = nn.TransformerEncoder(encoder_layer, num_layers=num_layers)\n",
    "        self.fc = nn.Linear(dim_feedforward, num_classes)\n",
    "\n",
    "    def forward(self, x):\n",
    "        # Flatten spatial dimensions for transformer input\n",
    "        batch_size, channels, height, width = x.shape\n",
    "        x = x.view(batch_size, channels, -1).permute(0, 2, 1)\n",
    "        x = self.embedding(x)\n",
    "        x = self.transformer_encoder(x)\n",
    "        x = x.mean(dim=1)  # Pool across tokens\n",
    "        x = self.fc(x)\n",
    "        return x\n"
   ]
  },
  {
   "cell_type": "code",
   "execution_count": null,
   "metadata": {
    "execution": {
     "iopub.execute_input": "2025-01-25T06:05:42.817850Z",
     "iopub.status.busy": "2025-01-25T06:05:42.817536Z",
     "iopub.status.idle": "2025-01-25T06:05:43.282565Z",
     "shell.execute_reply": "2025-01-25T06:05:43.281908Z",
     "shell.execute_reply.started": "2025-01-25T06:05:42.817820Z"
    },
    "trusted": true
   },
   "outputs": [
    {
     "name": "stderr",
     "output_type": "stream",
     "text": [
      "/usr/local/lib/python3.10/dist-packages/torch/nn/modules/transformer.py:379: UserWarning: enable_nested_tensor is True, but self.use_nested_tensor is False because encoder_layer.self_attn.batch_first was not True(use batch_first for better inference performance)\n",
      "  warnings.warn(\n"
     ]
    }
   ],
   "source": [
    "device = torch.device(\"cuda\" if torch.cuda.is_available() else \"cpu\")\n",
    "model = TransformerEncoderModel(input_dim=3, num_classes=2).to(device)\n",
    "if torch.cuda.device_count() > 1:\n",
    "    model = torch.nn.DataParallel(model)\n",
    "\n",
    "model.to(device)\n",
    "\n",
    "# Class weights for imbalance\n",
    "class_counts = Counter(label.item() for _, label in dataset)\n",
    "class_weights = torch.tensor([1.0, len(dataset) / class_counts[1]], device=device)\n",
    "criterion = torch.nn.CrossEntropyLoss(weight=class_weights)\n",
    "\n",
    "# Optimizer\n",
    "optimizer = torch.optim.Adam(model.parameters(), lr=1e-4, weight_decay=1e-5)\n"
   ]
  },
  {
   "cell_type": "code",
   "execution_count": null,
   "metadata": {
    "execution": {
     "iopub.execute_input": "2025-01-25T06:05:43.283513Z",
     "iopub.status.busy": "2025-01-25T06:05:43.283310Z",
     "iopub.status.idle": "2025-01-25T09:08:12.356196Z",
     "shell.execute_reply": "2025-01-25T09:08:12.355334Z",
     "shell.execute_reply.started": "2025-01-25T06:05:43.283496Z"
    },
    "trusted": true
   },
   "outputs": [
    {
     "name": "stderr",
     "output_type": "stream",
     "text": [
      "Epoch 1/15:   0%|          | 0/3496 [00:00<?, ?it/s]/usr/local/lib/python3.10/dist-packages/torch/nn/modules/linear.py:125: UserWarning: Attempting to run cuBLAS, but there was no current CUDA context! Attempting to set the primary context... (Triggered internally at ../aten/src/ATen/cuda/CublasHandlePool.cpp:135.)\n",
      "  return F.linear(input, self.weight, self.bias)\n",
      "Epoch 1/15: 100%|██████████| 3496/3496 [16:47<00:00,  3.47it/s, Loss=0.4901, Accuracy=72.83%]\n"
     ]
    },
    {
     "name": "stdout",
     "output_type": "stream",
     "text": [
      "Epoch [1/15] - Loss: 0.5919, Accuracy: 72.83%\n"
     ]
    },
    {
     "name": "stderr",
     "output_type": "stream",
     "text": [
      "Epoch 2/15: 100%|██████████| 3496/3496 [11:51<00:00,  4.91it/s, Loss=0.1811, Accuracy=85.84%]\n"
     ]
    },
    {
     "name": "stdout",
     "output_type": "stream",
     "text": [
      "Epoch [2/15] - Loss: 0.4457, Accuracy: 85.84%\n"
     ]
    },
    {
     "name": "stderr",
     "output_type": "stream",
     "text": [
      "Epoch 3/15: 100%|██████████| 3496/3496 [11:50<00:00,  4.92it/s, Loss=0.1227, Accuracy=87.51%]\n"
     ]
    },
    {
     "name": "stdout",
     "output_type": "stream",
     "text": [
      "Epoch [3/15] - Loss: 0.3664, Accuracy: 87.51%\n"
     ]
    },
    {
     "name": "stderr",
     "output_type": "stream",
     "text": [
      "Epoch 4/15: 100%|██████████| 3496/3496 [11:48<00:00,  4.93it/s, Loss=0.4020, Accuracy=88.44%]\n"
     ]
    },
    {
     "name": "stdout",
     "output_type": "stream",
     "text": [
      "Epoch [4/15] - Loss: 0.3303, Accuracy: 88.44%\n"
     ]
    },
    {
     "name": "stderr",
     "output_type": "stream",
     "text": [
      "Epoch 5/15: 100%|██████████| 3496/3496 [11:49<00:00,  4.92it/s, Loss=0.2102, Accuracy=88.74%]\n"
     ]
    },
    {
     "name": "stdout",
     "output_type": "stream",
     "text": [
      "Epoch [5/15] - Loss: 0.3170, Accuracy: 88.74%\n"
     ]
    },
    {
     "name": "stderr",
     "output_type": "stream",
     "text": [
      "Epoch 6/15: 100%|██████████| 3496/3496 [11:50<00:00,  4.92it/s, Loss=0.0875, Accuracy=89.00%]\n"
     ]
    },
    {
     "name": "stdout",
     "output_type": "stream",
     "text": [
      "Epoch [6/15] - Loss: 0.3085, Accuracy: 89.00%\n"
     ]
    },
    {
     "name": "stderr",
     "output_type": "stream",
     "text": [
      "Epoch 7/15: 100%|██████████| 3496/3496 [11:49<00:00,  4.93it/s, Loss=0.0548, Accuracy=88.93%]\n"
     ]
    },
    {
     "name": "stdout",
     "output_type": "stream",
     "text": [
      "Epoch [7/15] - Loss: 0.3083, Accuracy: 88.93%\n"
     ]
    },
    {
     "name": "stderr",
     "output_type": "stream",
     "text": [
      "Epoch 8/15: 100%|██████████| 3496/3496 [11:50<00:00,  4.92it/s, Loss=0.0829, Accuracy=89.00%]\n"
     ]
    },
    {
     "name": "stdout",
     "output_type": "stream",
     "text": [
      "Epoch [8/15] - Loss: 0.3050, Accuracy: 89.00%\n"
     ]
    },
    {
     "name": "stderr",
     "output_type": "stream",
     "text": [
      "Epoch 9/15: 100%|██████████| 3496/3496 [11:49<00:00,  4.93it/s, Loss=0.0393, Accuracy=88.96%]\n"
     ]
    },
    {
     "name": "stdout",
     "output_type": "stream",
     "text": [
      "Epoch [9/15] - Loss: 0.3013, Accuracy: 88.96%\n"
     ]
    },
    {
     "name": "stderr",
     "output_type": "stream",
     "text": [
      "Epoch 10/15: 100%|██████████| 3496/3496 [11:47<00:00,  4.94it/s, Loss=0.1201, Accuracy=89.40%]\n"
     ]
    },
    {
     "name": "stdout",
     "output_type": "stream",
     "text": [
      "Epoch [10/15] - Loss: 0.2959, Accuracy: 89.40%\n"
     ]
    },
    {
     "name": "stderr",
     "output_type": "stream",
     "text": [
      "Epoch 11/15: 100%|██████████| 3496/3496 [11:48<00:00,  4.94it/s, Loss=0.0335, Accuracy=88.97%]\n"
     ]
    },
    {
     "name": "stdout",
     "output_type": "stream",
     "text": [
      "Epoch [11/15] - Loss: 0.2954, Accuracy: 88.97%\n"
     ]
    },
    {
     "name": "stderr",
     "output_type": "stream",
     "text": [
      "Epoch 12/15: 100%|██████████| 3496/3496 [11:48<00:00,  4.93it/s, Loss=1.6795, Accuracy=89.40%]\n"
     ]
    },
    {
     "name": "stdout",
     "output_type": "stream",
     "text": [
      "Epoch [12/15] - Loss: 0.2943, Accuracy: 89.40%\n"
     ]
    },
    {
     "name": "stderr",
     "output_type": "stream",
     "text": [
      "Epoch 13/15: 100%|██████████| 3496/3496 [11:49<00:00,  4.93it/s, Loss=0.3136, Accuracy=89.07%]\n"
     ]
    },
    {
     "name": "stdout",
     "output_type": "stream",
     "text": [
      "Epoch [13/15] - Loss: 0.2932, Accuracy: 89.07%\n"
     ]
    },
    {
     "name": "stderr",
     "output_type": "stream",
     "text": [
      "Epoch 14/15: 100%|██████████| 3496/3496 [11:50<00:00,  4.92it/s, Loss=0.0282, Accuracy=89.50%]\n"
     ]
    },
    {
     "name": "stdout",
     "output_type": "stream",
     "text": [
      "Epoch [14/15] - Loss: 0.2888, Accuracy: 89.50%\n"
     ]
    },
    {
     "name": "stderr",
     "output_type": "stream",
     "text": [
      "Epoch 15/15: 100%|██████████| 3496/3496 [11:55<00:00,  4.88it/s, Loss=0.0729, Accuracy=89.55%]"
     ]
    },
    {
     "name": "stdout",
     "output_type": "stream",
     "text": [
      "Epoch [15/15] - Loss: 0.2883, Accuracy: 89.55%\n"
     ]
    },
    {
     "name": "stderr",
     "output_type": "stream",
     "text": [
      "\n"
     ]
    }
   ],
   "source": [
    "epochs = 15\n",
    "checkpoint_dir = \"checkpoints\"\n",
    "os.makedirs(checkpoint_dir, exist_ok=True)\n",
    "\n",
    "for epoch in range(epochs):\n",
    "    model.train()\n",
    "    running_loss = 0.0\n",
    "    correct = 0\n",
    "    total = 0\n",
    "    progress_bar = tqdm(enumerate(data_loader), total=len(data_loader), desc=f\"Epoch {epoch + 1}/{epochs}\")\n",
    "\n",
    "    for batch_idx, (images, labels) in progress_bar:\n",
    "        images, labels = images.to(device), labels.to(device)\n",
    "\n",
    "        # Forward pass\n",
    "        outputs = model(images)\n",
    "        loss = criterion(outputs, labels)\n",
    "\n",
    "        # Backward pass\n",
    "        optimizer.zero_grad()\n",
    "        loss.backward()\n",
    "        optimizer.step()\n",
    "\n",
    "        # Metrics\n",
    "        running_loss += loss.item()\n",
    "        _, predicted = torch.max(outputs, 1)\n",
    "        total += labels.size(0)\n",
    "        correct += (predicted == labels).sum().item()\n",
    "        progress_bar.set_postfix({\"Loss\": f\"{loss.item():.4f}\", \"Accuracy\": f\"{100 * correct / total:.2f}%\"})\n",
    "\n",
    "    epoch_loss = running_loss / len(data_loader)\n",
    "    epoch_accuracy = 100 * correct / total\n",
    "    print(f\"Epoch [{epoch + 1}/{epochs}] - Loss: {epoch_loss:.4f}, Accuracy: {epoch_accuracy:.2f}%\")\n",
    "\n",
    "    # Save checkpoint\n",
    "    torch.save(model.state_dict(), os.path.join(checkpoint_dir, f\"transformer_epoch_{epoch + 1}.pth\"))\n"
   ]
  },
  {
   "cell_type": "code",
   "execution_count": 14,
   "metadata": {
    "execution": {
     "iopub.execute_input": "2025-01-25T09:17:43.302414Z",
     "iopub.status.busy": "2025-01-25T09:17:43.302129Z",
     "iopub.status.idle": "2025-01-25T09:21:50.425658Z",
     "shell.execute_reply": "2025-01-25T09:21:50.424738Z",
     "shell.execute_reply.started": "2025-01-25T09:17:43.302393Z"
    },
    "trusted": true
   },
   "outputs": [
    {
     "name": "stdout",
     "output_type": "stream",
     "text": [
      "Confusion Matrix:\n",
      "[[3059  437]\n",
      " [ 264 3232]]\n",
      "\n",
      "Classification Report:\n",
      "              precision    recall  f1-score   support\n",
      "\n",
      "no oil spill       0.92      0.88      0.90      3496\n",
      "   oil spill       0.88      0.92      0.90      3496\n",
      "\n",
      "    accuracy                           0.90      6992\n",
      "   macro avg       0.90      0.90      0.90      6992\n",
      "weighted avg       0.90      0.90      0.90      6992\n",
      "\n",
      "Precision: 0.88\n",
      "Recall (Sensitivity, TPR): 0.92\n",
      "F1 Score: 0.90\n",
      "Cohen's Kappa: 0.80\n",
      "True Positive Rate (TPR): 0.92\n",
      "True Negative Rate (TNR): 0.88\n",
      "False Positive Rate (FPR): 0.12\n",
      "False Negative Rate (FNR): 0.08\n"
     ]
    },
    {
     "data": {
      "image/png": "[encoded data removed]",
      "text/plain": [
       "<Figure size 640x480 with 2 Axes>"
      ]
     },
     "metadata": {},
     "output_type": "display_data"
    }
   ],
   "source": [
    "import torch\n",
    "import numpy as np\n",
    "from sklearn.metrics import (\n",
    "    confusion_matrix,\n",
    "    ConfusionMatrixDisplay,\n",
    "    precision_score,\n",
    "    recall_score,\n",
    "    f1_score,\n",
    "    cohen_kappa_score,\n",
    "    classification_report\n",
    ")\n",
    "import matplotlib.pyplot as plt\n",
    "\n",
    "# Step 2: Evaluate and Collect Predictions\n",
    "model.eval()\n",
    "all_preds = []\n",
    "all_labels = []\n",
    "\n",
    "with torch.no_grad():  # Disable gradient computation\n",
    "    for images, labels in data_loader:\n",
    "        images, labels = images.to(device), labels.to(device)\n",
    "        outputs = model(images)\n",
    "        _, preds = torch.max(outputs, 1)  # Get predicted class\n",
    "        all_preds.extend(preds.cpu().numpy())\n",
    "        all_labels.extend(labels.cpu().numpy())\n",
    "\n",
    "# Step 3: Generate Confusion Matrix\n",
    "cm = confusion_matrix(all_labels, all_preds)\n",
    "class_names = ['no oil spill', 'oil spill']  # Replace with your class names if needed\n",
    "\n",
    "# Extract True Positives (TP), False Positives (FP), True Negatives (TN), False Negatives (FN)\n",
    "TP = cm[1, 1]\n",
    "FP = cm[0, 1]\n",
    "TN = cm[0, 0]\n",
    "FN = cm[1, 0]\n",
    "\n",
    "# Metrics Calculations\n",
    "precision = precision_score(all_labels, all_preds, average='binary')\n",
    "recall = recall_score(all_labels, all_preds, average='binary')\n",
    "f1 = f1_score(all_labels, all_preds, average='binary')\n",
    "kappa = cohen_kappa_score(all_labels, all_preds)\n",
    "TPR = TP / (TP + FN) if (TP + FN) > 0 else 0  # True Positive Rate (Sensitivity)\n",
    "TNR = TN / (TN + FP) if (TN + FP) > 0 else 0  # True Negative Rate (Specificity)\n",
    "FPR = FP / (FP + TN) if (FP + TN) > 0 else 0  # False Positive Rate\n",
    "FNR = FN / (FN + TP) if (FN + TP) > 0 else 0  # False Negative Rate\n",
    "\n",
    "# Display Metrics\n",
    "print(\"Confusion Matrix:\")\n",
    "print(cm)\n",
    "print(\"\\nClassification Report:\")\n",
    "print(classification_report(all_labels, all_preds, target_names=class_names))\n",
    "print(f\"Precision: {precision:.2f}\")\n",
    "print(f\"Recall (Sensitivity, TPR): {recall:.2f}\")\n",
    "print(f\"F1 Score: {f1:.2f}\")\n",
    "print(f\"Cohen's Kappa: {kappa:.2f}\")\n",
    "print(f\"True Positive Rate (TPR): {TPR:.2f}\")\n",
    "print(f\"True Negative Rate (TNR): {TNR:.2f}\")\n",
    "print(f\"False Positive Rate (FPR): {FPR:.2f}\")\n",
    "print(f\"False Negative Rate (FNR): {FNR:.2f}\")\n",
    "\n",
    "# Step 4: Plot Confusion Matrix\n",
    "disp = ConfusionMatrixDisplay(confusion_matrix=cm, display_labels=class_names)\n",
    "disp.plot(cmap=plt.cm.Blues)\n",
    "plt.title(\"Confusion Matrix\")\n",
    "plt.show()"
   ]
  }
 ],
 "metadata": {
  "kaggle": {
   "accelerator": "nvidiaTeslaT4",
   "dataSources": [
    {
     "datasetId": 6544302,
     "sourceId": 10575440,
     "sourceType": "datasetVersion"
    }
   ],
   "dockerImageVersionId": 30840,
   "isGpuEnabled": true,
   "isInternetEnabled": true,
   "language": "python",
   "sourceType": "notebook"
  },
  "kernelspec": {
   "display_name": "Python 3",
   "language": "python",
   "name": "python3"
  },
  "language_info": {
   "codemirror_mode": {
    "name": "ipython",
    "version": 3
   },
   "file_extension": ".py",
   "mimetype": "text/x-python",
   "name": "python",
   "nbconvert_exporter": "python",
   "pygments_lexer": "ipython3",
   "version": "3.10.12"
  }
 },
 "nbformat": 4,
 "nbformat_minor": 4
}
