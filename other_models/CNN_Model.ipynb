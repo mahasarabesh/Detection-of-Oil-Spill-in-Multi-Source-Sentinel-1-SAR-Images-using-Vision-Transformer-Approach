{
 "cells": [
  {
   "cell_type": "code",
   "execution_count": null,
   "metadata": {
    "_cell_guid": "b1076dfc-b9ad-4769-8c92-a6c4dae69d19",
    "_uuid": "8f2839f25d086af736a60e9eeb907d3b93b6e0e5",
    "execution": {
     "iopub.execute_input": "2025-01-29T02:24:41.972208Z",
     "iopub.status.busy": "2025-01-29T02:24:41.971960Z",
     "iopub.status.idle": "2025-01-29T02:24:57.989251Z",
     "shell.execute_reply": "2025-01-29T02:24:57.988585Z",
     "shell.execute_reply.started": "2025-01-29T02:24:41.972176Z"
    },
    "trusted": true
   },
   "outputs": [],
   "source": [
    "!pip install rasterio tqdm\n"
   ]
  },
  {
   "cell_type": "code",
   "execution_count": null,
   "metadata": {},
   "outputs": [],
   "source": [
    "\n",
    "import os\n",
    "import rasterio\n",
    "import torch\n",
    "from torch.utils.data import DataLoader, Dataset\n",
    "import matplotlib.pyplot as plt\n",
    "from collections import Counter\n",
    "class TifImageDataset(Dataset):\n",
    "    def __init__(self, image_dir, mask_dir, transform=None):\n",
    "        self.image_dir = image_dir\n",
    "        self.mask_dir = mask_dir\n",
    "        self.image_names = [f for f in os.listdir(image_dir) if f.endswith(\".tif\")]\n",
    "        self.transform = transform\n",
    "\n",
    "    def __len__(self):\n",
    "        return len(self.image_names)\n",
    "\n",
    "    def __getitem__(self, idx):\n",
    "    # Load the image using rasterio\n",
    "      img_name = self.image_names[idx]\n",
    "      img_path = os.path.join(self.image_dir, img_name)\n",
    "      with rasterio.open(img_path) as src:\n",
    "          image = src.read()  # Read all bands\n",
    "\n",
    "      # Convert image to PyTorch tensor\n",
    "      image = torch.tensor(image, dtype=torch.float32)\n",
    "\n",
    "      # Fix NaN values\n",
    "      for band in range(image.shape[0]):  # Iterate over bands\n",
    "          band_data = image[band, :, :]\n",
    "          nan_mask = torch.isnan(band_data)\n",
    "          if nan_mask.any():\n",
    "              mean_value = band_data[~nan_mask].mean()  # Mean of non-NaN values\n",
    "              band_data[nan_mask] = mean_value  # Replace NaN with the mean\n",
    "\n",
    "      # Ensure 3-channel image for consistency\n",
    "      if image.shape[0] == 3:\n",
    "          pass\n",
    "      elif image.shape[0] > 3:\n",
    "          image = image[:3, :, :]\n",
    "      else:\n",
    "          image = image.expand(3, image.shape[1], image.shape[2])\n",
    "\n",
    "      # Load the corresponding mask\n",
    "      mask_name = img_name.replace(\".tif\", \"_mask.tif\")\n",
    "      mask_path = os.path.join(self.mask_dir, mask_name)\n",
    "      with rasterio.open(mask_path) as src:\n",
    "          mask = src.read(1)  # Read single channel for binary mask\n",
    "\n",
    "      # Calculate the number of zeros and non-zeros in the mask\n",
    "      total_pixels = mask.size  # Total number of pixels in the mask\n",
    "      non_zero_pixels = (mask > 0).sum()  # Count of non-zero pixels\n",
    "      non_zero_percentage = (non_zero_pixels / total_pixels) * 100\n",
    "\n",
    "      # Determine label based on non-zero percentage\n",
    "      label = torch.tensor(1 if non_zero_percentage > 30 else 0, dtype=torch.long)\n",
    "\n",
    "      # Apply transforms if provided\n",
    "      if self.transform:\n",
    "          image = self.transform(image)\n",
    "\n",
    "      return image, label\n"
   ]
  },
  {
   "cell_type": "code",
   "execution_count": null,
   "metadata": {
    "execution": {
     "iopub.execute_input": "2025-01-29T02:24:57.990640Z",
     "iopub.status.busy": "2025-01-29T02:24:57.990267Z",
     "iopub.status.idle": "2025-01-29T02:32:09.315115Z",
     "shell.execute_reply": "2025-01-29T02:32:09.314137Z",
     "shell.execute_reply.started": "2025-01-29T02:24:57.990613Z"
    },
    "trusted": true
   },
   "outputs": [
    {
     "name": "stdout",
     "output_type": "stream",
     "text": [
      "Image shape before processing: torch.Size([3, 224, 224]), Label: 1\n"
     ]
    }
   ],
   "source": [
    "from torchvision.transforms import Compose, Normalize, Resize\n",
    "\n",
    "# Define transformations with augmentations\n",
    "input_size = 224  # Required input size for ViT\n",
    "transform = Compose([\n",
    "    Resize((input_size, input_size)),            # Resize to ViT-compatible dimensions\n",
    "    Normalize(mean=(0.485, 0.456, 0.406), std=(0.229, 0.224, 0.225))     # ImageNet normalization\n",
    "])\n",
    "\n",
    "# Initialize dataset\n",
    "image_dir = \"sar-ds-r-filtered-bal/sar_ds_r_filtered_bal/image_patches\"\n",
    "mask_dir = \"sar-ds-r-filtered-bal/sar_ds_r_filtered_bal/mask_patches\"\n",
    "dataset = TifImageDataset(image_dir=image_dir, mask_dir=mask_dir, transform=transform)\n",
    "\n",
    "# Example to check output\n",
    "for image, label in dataset:\n",
    "    print(f\"Image shape before processing: {image.shape}, Label: {label}\")\n",
    "    break\n",
    "\n",
    "from sklearn.model_selection import train_test_split\n",
    "from torch.utils.data import Subset,ConcatDataset\n",
    "import numpy as np\n",
    "# Separate the dataset into two subsets based on labels (0 and 1)\n",
    "label_0_indices = [i for i, (_, label) in enumerate(dataset) if label == 0]\n",
    "label_1_indices = [i for i, (_, label) in enumerate(dataset) if label == 1]\n",
    "\n",
    "# Random split for label 0"
   ]
  },
  {
   "cell_type": "code",
   "execution_count": 3,
   "metadata": {
    "execution": {
     "iopub.execute_input": "2025-01-29T02:32:09.317784Z",
     "iopub.status.busy": "2025-01-29T02:32:09.317316Z",
     "iopub.status.idle": "2025-01-29T02:32:09.515279Z",
     "shell.execute_reply": "2025-01-29T02:32:09.514599Z",
     "shell.execute_reply.started": "2025-01-29T02:32:09.317760Z"
    },
    "trusted": true
   },
   "outputs": [
    {
     "name": "stdout",
     "output_type": "stream",
     "text": [
      "Image shape after processing: torch.Size([8, 3, 224, 224]), Label: tensor([0, 0, 0, 0, 1, 0, 0, 0])\n",
      "True\n",
      "12.1\n"
     ]
    }
   ],
   "source": [
    "from torch.utils.data import Subset,ConcatDataset\n",
    "train_indices_0, val_indices_0 = train_test_split(\n",
    "    label_0_indices, test_size=0.2, random_state=42\n",
    ")\n",
    "\n",
    "# Random split for label 1\n",
    "train_indices_1, val_indices_1 = train_test_split(\n",
    "    label_1_indices, test_size=0.2, random_state=42\n",
    ")\n",
    "\n",
    "# Create subsets for training and validation\n",
    "train_subset_0 = Subset(dataset, train_indices_0)\n",
    "train_subset_1 = Subset(dataset, train_indices_1)\n",
    "val_subset_0 = Subset(dataset, val_indices_0)\n",
    "val_subset_1 = Subset(dataset, val_indices_1)\n",
    "\n",
    "# Merge training and validation subsets\n",
    "train_dataset = ConcatDataset([train_subset_0, train_subset_1])\n",
    "val_dataset = ConcatDataset([val_subset_0, val_subset_1])\n",
    "\n",
    "# Initialize DataLoaders\n",
    "train_loader = DataLoader(train_dataset, batch_size=8, shuffle=True)\n",
    "val_loader = DataLoader(val_dataset, batch_size=8, shuffle=False)\n",
    "\n",
    "#print(f\"Training samples: {train_size}, Validation samples: {val_size}\")\n",
    "\n",
    "for image, label in train_loader:\n",
    "    print(f\"Image shape after processing: {image.shape}, Label: {label}\")\n",
    "    break\n",
    "print(torch.cuda.is_available())\n",
    "print(torch.version.cuda)"
   ]
  },
  {
   "cell_type": "code",
   "execution_count": 5,
   "metadata": {
    "execution": {
     "iopub.execute_input": "2025-01-29T02:32:09.522710Z",
     "iopub.status.busy": "2025-01-29T02:32:09.522394Z",
     "iopub.status.idle": "2025-01-29T02:32:09.655859Z",
     "shell.execute_reply": "2025-01-29T02:32:09.655196Z",
     "shell.execute_reply.started": "2025-01-29T02:32:09.522680Z"
    },
    "trusted": true
   },
   "outputs": [
    {
     "name": "stdout",
     "output_type": "stream",
     "text": [
      "CNNModel(\n",
      "  (conv1): Conv2d(3, 16, kernel_size=(3, 3), stride=(1, 1), padding=(1, 1))\n",
      "  (conv2): Conv2d(16, 32, kernel_size=(3, 3), stride=(1, 1), padding=(1, 1))\n",
      "  (conv3): Conv2d(32, 64, kernel_size=(3, 3), stride=(1, 1), padding=(1, 1))\n",
      "  (pool): MaxPool2d(kernel_size=2, stride=2, padding=0, dilation=1, ceil_mode=False)\n",
      "  (fc1): Linear(in_features=50176, out_features=256, bias=True)\n",
      "  (fc2): Linear(in_features=256, out_features=64, bias=True)\n",
      "  (fc3): Linear(in_features=64, out_features=2, bias=True)\n",
      "  (dropout): Dropout(p=0.5, inplace=False)\n",
      ")\n"
     ]
    }
   ],
   "source": [
    "import torch\n",
    "import torch.nn as nn\n",
    "import torch.nn.functional as F\n",
    "\n",
    "class CNNModel(nn.Module):\n",
    "    def __init__(self):\n",
    "        super(CNNModel, self).__init__()\n",
    "        \n",
    "        # Convolutional layers\n",
    "        self.conv1 = nn.Conv2d(in_channels=3, out_channels=16, kernel_size=3, stride=1, padding=1)\n",
    "        self.conv2 = nn.Conv2d(in_channels=16, out_channels=32, kernel_size=3, stride=1, padding=1)\n",
    "        self.conv3 = nn.Conv2d(in_channels=32, out_channels=64, kernel_size=3, stride=1, padding=1)\n",
    "        \n",
    "        # Pooling layer\n",
    "        self.pool = nn.MaxPool2d(kernel_size=2, stride=2)\n",
    "\n",
    "        # Fully connected layers\n",
    "        self.fc1 = nn.Linear(64 * 28 * 28, 256)  # Adjusted for input size after convolutions and pooling\n",
    "        self.fc2 = nn.Linear(256, 64)\n",
    "        self.fc3 = nn.Linear(64, 2)  # Output for 10 classes (adjust as needed)\n",
    "\n",
    "        # Dropout layer\n",
    "        self.dropout = nn.Dropout(0.5)\n",
    "\n",
    "    def forward(self, x):\n",
    "        # Convolutional layers with ReLU activation and pooling\n",
    "        x = self.pool(F.relu(self.conv1(x)))\n",
    "        x = self.pool(F.relu(self.conv2(x)))\n",
    "        x = self.pool(F.relu(self.conv3(x)))\n",
    "\n",
    "        # Flatten the tensor for fully connected layers\n",
    "        x = x.view(-1, 64 * 28 * 28)\n",
    "\n",
    "        # Fully connected layers with ReLU activation and dropout\n",
    "        x = F.relu(self.fc1(x))\n",
    "        x = self.dropout(x)\n",
    "        x = F.relu(self.fc2(x))\n",
    "        x = self.fc3(x)  # Output layer (no activation for logits)\n",
    "\n",
    "        return x\n",
    "\n",
    "# Initialize the model\n",
    "model = CNNModel()\n",
    "\n",
    "# Print the model architecture\n",
    "print(model)"
   ]
  },
  {
   "cell_type": "code",
   "execution_count": null,
   "metadata": {
    "execution": {
     "iopub.execute_input": "2025-01-29T02:32:09.657006Z",
     "iopub.status.busy": "2025-01-29T02:32:09.656702Z",
     "iopub.status.idle": "2025-01-29T02:52:35.871998Z",
     "shell.execute_reply": "2025-01-29T02:52:35.871021Z",
     "shell.execute_reply.started": "2025-01-29T02:32:09.656975Z"
    },
    "trusted": true
   },
   "outputs": [
    {
     "name": "stdout",
     "output_type": "stream",
     "text": [
      "Using 2 GPUs...\n",
      "Class distribution: {1: 3496, 0: 3496}\n"
     ]
    },
    {
     "name": "stderr",
     "output_type": "stream",
     "text": [
      "Epoch 1/15: 100%|██████████| 699/699 [01:08<00:00, 10.14it/s, Batch Loss=0.8825, Batch Accuracy=49.09%]\n",
      "/usr/local/lib/python3.10/dist-packages/sklearn/metrics/_classification.py:1344: UndefinedMetricWarning: Precision is ill-defined and being set to 0.0 in labels with no predicted samples. Use `zero_division` parameter to control this behavior.\n",
      "  _warn_prf(average, modifier, msg_start, len(result))\n"
     ]
    },
    {
     "name": "stdout",
     "output_type": "stream",
     "text": [
      "Epoch [1/15] - Train Loss: 0.7842, Train Accuracy: 49.09%, Val Loss: 0.8514, Val Accuracy: 50.00%, Val Precision: 0.25, Val Recall: 0.50, Val F1 Score: 0.33\n",
      "Best model updated with validation accuracy: 50.00%\n",
      "Best model updated with train accuracy: 49.09%\n"
     ]
    },
    {
     "name": "stderr",
     "output_type": "stream",
     "text": [
      "Epoch 2/15: 100%|██████████| 699/699 [01:04<00:00, 10.80it/s, Batch Loss=0.6538, Batch Accuracy=50.30%]\n",
      "/usr/local/lib/python3.10/dist-packages/sklearn/metrics/_classification.py:1344: UndefinedMetricWarning: Precision is ill-defined and being set to 0.0 in labels with no predicted samples. Use `zero_division` parameter to control this behavior.\n",
      "  _warn_prf(average, modifier, msg_start, len(result))\n"
     ]
    },
    {
     "name": "stdout",
     "output_type": "stream",
     "text": [
      "Epoch [2/15] - Train Loss: 0.7632, Train Accuracy: 50.30%, Val Loss: 0.8316, Val Accuracy: 50.00%, Val Precision: 0.25, Val Recall: 0.50, Val F1 Score: 0.33\n",
      "Best model updated with validation accuracy: 50.00%\n",
      "Best model updated with train accuracy: 50.30%\n"
     ]
    },
    {
     "name": "stderr",
     "output_type": "stream",
     "text": [
      "Epoch 3/15: 100%|██████████| 699/699 [01:04<00:00, 10.80it/s, Batch Loss=0.8193, Batch Accuracy=50.77%]\n",
      "/usr/local/lib/python3.10/dist-packages/sklearn/metrics/_classification.py:1344: UndefinedMetricWarning: Precision is ill-defined and being set to 0.0 in labels with no predicted samples. Use `zero_division` parameter to control this behavior.\n",
      "  _warn_prf(average, modifier, msg_start, len(result))\n"
     ]
    },
    {
     "name": "stdout",
     "output_type": "stream",
     "text": [
      "Epoch [3/15] - Train Loss: 0.7377, Train Accuracy: 50.77%, Val Loss: 0.8257, Val Accuracy: 50.00%, Val Precision: 0.25, Val Recall: 0.50, Val F1 Score: 0.33\n",
      "Best model updated with validation accuracy: 50.00%\n",
      "Best model updated with train accuracy: 50.77%\n"
     ]
    },
    {
     "name": "stderr",
     "output_type": "stream",
     "text": [
      "Epoch 4/15: 100%|██████████| 699/699 [01:04<00:00, 10.77it/s, Batch Loss=0.7780, Batch Accuracy=49.54%]\n",
      "/usr/local/lib/python3.10/dist-packages/sklearn/metrics/_classification.py:1344: UndefinedMetricWarning: Precision is ill-defined and being set to 0.0 in labels with no predicted samples. Use `zero_division` parameter to control this behavior.\n",
      "  _warn_prf(average, modifier, msg_start, len(result))\n"
     ]
    },
    {
     "name": "stdout",
     "output_type": "stream",
     "text": [
      "Epoch [4/15] - Train Loss: 0.7347, Train Accuracy: 49.54%, Val Loss: 0.8260, Val Accuracy: 50.00%, Val Precision: 0.25, Val Recall: 0.50, Val F1 Score: 0.33\n",
      "Best model updated with validation accuracy: 50.00%\n",
      "Best model updated with train accuracy: 49.54%\n"
     ]
    },
    {
     "name": "stderr",
     "output_type": "stream",
     "text": [
      "Epoch 5/15: 100%|██████████| 699/699 [01:04<00:00, 10.76it/s, Batch Loss=0.7347, Batch Accuracy=49.41%]\n",
      "/usr/local/lib/python3.10/dist-packages/sklearn/metrics/_classification.py:1344: UndefinedMetricWarning: Precision is ill-defined and being set to 0.0 in labels with no predicted samples. Use `zero_division` parameter to control this behavior.\n",
      "  _warn_prf(average, modifier, msg_start, len(result))\n"
     ]
    },
    {
     "name": "stdout",
     "output_type": "stream",
     "text": [
      "Epoch [5/15] - Train Loss: 0.7255, Train Accuracy: 49.41%, Val Loss: 0.8085, Val Accuracy: 50.00%, Val Precision: 0.25, Val Recall: 0.50, Val F1 Score: 0.33\n",
      "Best model updated with validation accuracy: 50.00%\n",
      "Best model updated with train accuracy: 49.41%\n"
     ]
    },
    {
     "name": "stderr",
     "output_type": "stream",
     "text": [
      "Epoch 6/15: 100%|██████████| 699/699 [01:04<00:00, 10.80it/s, Batch Loss=1.3576, Batch Accuracy=51.13%]\n",
      "/usr/local/lib/python3.10/dist-packages/sklearn/metrics/_classification.py:1344: UndefinedMetricWarning: Precision is ill-defined and being set to 0.0 in labels with no predicted samples. Use `zero_division` parameter to control this behavior.\n",
      "  _warn_prf(average, modifier, msg_start, len(result))\n"
     ]
    },
    {
     "name": "stdout",
     "output_type": "stream",
     "text": [
      "Epoch [6/15] - Train Loss: 0.7014, Train Accuracy: 51.13%, Val Loss: 0.7715, Val Accuracy: 50.00%, Val Precision: 0.25, Val Recall: 0.50, Val F1 Score: 0.33\n",
      "Best model updated with validation accuracy: 50.00%\n",
      "Best model updated with train accuracy: 51.13%\n"
     ]
    },
    {
     "name": "stderr",
     "output_type": "stream",
     "text": [
      "Epoch 7/15: 100%|██████████| 699/699 [01:05<00:00, 10.71it/s, Batch Loss=0.8944, Batch Accuracy=50.23%]\n",
      "/usr/local/lib/python3.10/dist-packages/sklearn/metrics/_classification.py:1344: UndefinedMetricWarning: Precision is ill-defined and being set to 0.0 in labels with no predicted samples. Use `zero_division` parameter to control this behavior.\n",
      "  _warn_prf(average, modifier, msg_start, len(result))\n"
     ]
    },
    {
     "name": "stdout",
     "output_type": "stream",
     "text": [
      "Epoch [7/15] - Train Loss: 0.7077, Train Accuracy: 50.23%, Val Loss: 0.7655, Val Accuracy: 50.00%, Val Precision: 0.25, Val Recall: 0.50, Val F1 Score: 0.33\n",
      "Best model updated with validation accuracy: 50.00%\n",
      "Best model updated with train accuracy: 50.23%\n"
     ]
    },
    {
     "name": "stderr",
     "output_type": "stream",
     "text": [
      "Epoch 8/15: 100%|██████████| 699/699 [01:05<00:00, 10.69it/s, Batch Loss=0.4660, Batch Accuracy=50.95%]\n",
      "/usr/local/lib/python3.10/dist-packages/sklearn/metrics/_classification.py:1344: UndefinedMetricWarning: Precision is ill-defined and being set to 0.0 in labels with no predicted samples. Use `zero_division` parameter to control this behavior.\n",
      "  _warn_prf(average, modifier, msg_start, len(result))\n"
     ]
    },
    {
     "name": "stdout",
     "output_type": "stream",
     "text": [
      "Epoch [8/15] - Train Loss: 0.6915, Train Accuracy: 50.95%, Val Loss: 0.7490, Val Accuracy: 50.00%, Val Precision: 0.25, Val Recall: 0.50, Val F1 Score: 0.33\n",
      "Best model updated with validation accuracy: 50.00%\n",
      "Best model updated with train accuracy: 50.95%\n"
     ]
    },
    {
     "name": "stderr",
     "output_type": "stream",
     "text": [
      "Epoch 9/15: 100%|██████████| 699/699 [01:09<00:00, 10.08it/s, Batch Loss=0.5342, Batch Accuracy=50.36%]\n",
      "/usr/local/lib/python3.10/dist-packages/sklearn/metrics/_classification.py:1344: UndefinedMetricWarning: Precision is ill-defined and being set to 0.0 in labels with no predicted samples. Use `zero_division` parameter to control this behavior.\n",
      "  _warn_prf(average, modifier, msg_start, len(result))\n"
     ]
    },
    {
     "name": "stdout",
     "output_type": "stream",
     "text": [
      "Epoch [9/15] - Train Loss: 0.6867, Train Accuracy: 50.36%, Val Loss: 0.7446, Val Accuracy: 50.00%, Val Precision: 0.25, Val Recall: 0.50, Val F1 Score: 0.33\n",
      "Best model updated with validation accuracy: 50.00%\n",
      "Best model updated with train accuracy: 50.36%\n"
     ]
    },
    {
     "name": "stderr",
     "output_type": "stream",
     "text": [
      "Epoch 10/15: 100%|██████████| 699/699 [01:11<00:00,  9.79it/s, Batch Loss=0.5965, Batch Accuracy=50.89%]\n",
      "/usr/local/lib/python3.10/dist-packages/sklearn/metrics/_classification.py:1344: UndefinedMetricWarning: Precision is ill-defined and being set to 0.0 in labels with no predicted samples. Use `zero_division` parameter to control this behavior.\n",
      "  _warn_prf(average, modifier, msg_start, len(result))\n"
     ]
    },
    {
     "name": "stdout",
     "output_type": "stream",
     "text": [
      "Epoch [10/15] - Train Loss: 0.6811, Train Accuracy: 50.89%, Val Loss: 0.7397, Val Accuracy: 50.00%, Val Precision: 0.25, Val Recall: 0.50, Val F1 Score: 0.33\n",
      "Best model updated with validation accuracy: 50.00%\n",
      "Best model updated with train accuracy: 50.89%\n"
     ]
    },
    {
     "name": "stderr",
     "output_type": "stream",
     "text": [
      "Epoch 11/15: 100%|██████████| 699/699 [01:09<00:00, 10.03it/s, Batch Loss=0.6155, Batch Accuracy=50.09%]\n",
      "/usr/local/lib/python3.10/dist-packages/sklearn/metrics/_classification.py:1344: UndefinedMetricWarning: Precision is ill-defined and being set to 0.0 in labels with no predicted samples. Use `zero_division` parameter to control this behavior.\n",
      "  _warn_prf(average, modifier, msg_start, len(result))\n"
     ]
    },
    {
     "name": "stdout",
     "output_type": "stream",
     "text": [
      "Epoch [11/15] - Train Loss: 0.6855, Train Accuracy: 50.09%, Val Loss: 0.7302, Val Accuracy: 50.00%, Val Precision: 0.25, Val Recall: 0.50, Val F1 Score: 0.33\n",
      "Best model updated with validation accuracy: 50.00%\n",
      "Best model updated with train accuracy: 50.09%\n"
     ]
    },
    {
     "name": "stderr",
     "output_type": "stream",
     "text": [
      "Epoch 12/15: 100%|██████████| 699/699 [01:06<00:00, 10.57it/s, Batch Loss=0.6816, Batch Accuracy=51.61%]\n",
      "/usr/local/lib/python3.10/dist-packages/sklearn/metrics/_classification.py:1344: UndefinedMetricWarning: Precision is ill-defined and being set to 0.0 in labels with no predicted samples. Use `zero_division` parameter to control this behavior.\n",
      "  _warn_prf(average, modifier, msg_start, len(result))\n"
     ]
    },
    {
     "name": "stdout",
     "output_type": "stream",
     "text": [
      "Epoch [12/15] - Train Loss: 0.6654, Train Accuracy: 51.61%, Val Loss: 0.7225, Val Accuracy: 50.00%, Val Precision: 0.25, Val Recall: 0.50, Val F1 Score: 0.33\n",
      "Best model updated with validation accuracy: 50.00%\n",
      "Best model updated with train accuracy: 51.61%\n"
     ]
    },
    {
     "name": "stderr",
     "output_type": "stream",
     "text": [
      "Epoch 13/15: 100%|██████████| 699/699 [01:05<00:00, 10.73it/s, Batch Loss=0.6478, Batch Accuracy=51.20%]\n",
      "/usr/local/lib/python3.10/dist-packages/sklearn/metrics/_classification.py:1344: UndefinedMetricWarning: Precision is ill-defined and being set to 0.0 in labels with no predicted samples. Use `zero_division` parameter to control this behavior.\n",
      "  _warn_prf(average, modifier, msg_start, len(result))\n"
     ]
    },
    {
     "name": "stdout",
     "output_type": "stream",
     "text": [
      "Epoch [13/15] - Train Loss: 0.6703, Train Accuracy: 51.20%, Val Loss: 0.7178, Val Accuracy: 50.00%, Val Precision: 0.25, Val Recall: 0.50, Val F1 Score: 0.33\n",
      "Best model updated with validation accuracy: 50.00%\n",
      "Best model updated with train accuracy: 51.20%\n"
     ]
    },
    {
     "name": "stderr",
     "output_type": "stream",
     "text": [
      "Epoch 14/15: 100%|██████████| 699/699 [01:08<00:00, 10.26it/s, Batch Loss=0.6902, Batch Accuracy=52.09%]\n",
      "/usr/local/lib/python3.10/dist-packages/sklearn/metrics/_classification.py:1344: UndefinedMetricWarning: Precision is ill-defined and being set to 0.0 in labels with no predicted samples. Use `zero_division` parameter to control this behavior.\n",
      "  _warn_prf(average, modifier, msg_start, len(result))\n"
     ]
    },
    {
     "name": "stdout",
     "output_type": "stream",
     "text": [
      "Epoch [14/15] - Train Loss: 0.6606, Train Accuracy: 52.09%, Val Loss: 0.7209, Val Accuracy: 50.00%, Val Precision: 0.25, Val Recall: 0.50, Val F1 Score: 0.33\n",
      "Best model updated with validation accuracy: 50.00%\n",
      "Best model updated with train accuracy: 52.09%\n"
     ]
    },
    {
     "name": "stderr",
     "output_type": "stream",
     "text": [
      "Epoch 15/15: 100%|██████████| 699/699 [01:05<00:00, 10.72it/s, Batch Loss=0.6329, Batch Accuracy=50.91%]\n",
      "/usr/local/lib/python3.10/dist-packages/sklearn/metrics/_classification.py:1344: UndefinedMetricWarning: Precision is ill-defined and being set to 0.0 in labels with no predicted samples. Use `zero_division` parameter to control this behavior.\n",
      "  _warn_prf(average, modifier, msg_start, len(result))\n"
     ]
    },
    {
     "name": "stdout",
     "output_type": "stream",
     "text": [
      "Epoch [15/15] - Train Loss: 0.6654, Train Accuracy: 50.91%, Val Loss: 0.7206, Val Accuracy: 50.00%, Val Precision: 0.25, Val Recall: 0.50, Val F1 Score: 0.33\n",
      "Best model updated with validation accuracy: 50.00%\n",
      "Best model updated with train accuracy: 50.91%\n",
      "Training complete. Checkpoints and metrics saved.\n"
     ]
    }
   ],
   "source": [
    "import os\n",
    "import pickle\n",
    "import torch\n",
    "from collections import Counter\n",
    "from torchvision import models\n",
    "from tqdm import tqdm\n",
    "from timm import create_model\n",
    "from torch import nn, optim\n",
    "from sklearn.metrics import precision_score, recall_score, f1_score, mean_absolute_error\n",
    "import pandas as pd\n",
    "\n",
    "# Enable DataParallel for multi-GPU support\n",
    "device = torch.device(\"cuda\" if torch.cuda.is_available() else \"cpu\")\n",
    "if torch.cuda.device_count() > 1:\n",
    "    print(f\"Using {torch.cuda.device_count()} GPUs...\")\n",
    "    model = torch.nn.DataParallel(model)\n",
    "\n",
    "model.to(device)\n",
    "\n",
    "# Check class distribution\n",
    "class_counts = Counter(label.item() for _, label in dataset)\n",
    "print(f\"Class distribution: {class_counts}\")\n",
    "\n",
    "class_weights = torch.tensor([1.0, len(dataset) / class_counts[1]], device=device)\n",
    "criterion = torch.nn.CrossEntropyLoss(weight=class_weights)\n",
    "optimizer = torch.optim.Adam(model.parameters(), lr=1e-8)\n",
    "\n",
    "# Initialize lists to store metrics\n",
    "metrics_history = []\n",
    "checkpoint_dir = \"\"\n",
    "#os.makedirs(checkpoint_dir, exist_ok=True)  # Create directory if it doesn't exist\n",
    "metrics_csv_path = os.path.join(checkpoint_dir, \"metrics_history_filtered_CNN.csv\")\n",
    "\n",
    "best_val = 0.0  # To track the best model\n",
    "best_train = 0.0 \n",
    "# Training loop with checkpoint saving\n",
    "epochs = 15\n",
    "for epoch in range(epochs):\n",
    "    model.train()\n",
    "    running_loss = 0.0\n",
    "    correct = 0\n",
    "    total = 0\n",
    "\n",
    "    # Training phase\n",
    "    progress_bar = tqdm(enumerate(train_loader), total=len(train_loader), desc=f\"Epoch {epoch + 1}/{epochs}\")\n",
    "    for batch_idx, (images, labels) in progress_bar:\n",
    "        images, labels = images.to(device), labels.to(device)\n",
    "\n",
    "        # Forward pass\n",
    "        outputs = model(images)\n",
    "        loss = criterion(outputs, labels)\n",
    "\n",
    "        # Backward pass\n",
    "        optimizer.zero_grad()\n",
    "        loss.backward()\n",
    "        optimizer.step()\n",
    "\n",
    "        # Update metrics\n",
    "        running_loss += loss.item()\n",
    "        _, predicted = torch.max(outputs, 1)\n",
    "        total += labels.size(0)\n",
    "        correct += (predicted == labels).sum().item()\n",
    "\n",
    "        progress_bar.set_postfix({\n",
    "            \"Batch Loss\": f\"{loss.item():.4f}\",\n",
    "            \"Batch Accuracy\": f\"{100 * correct / total:.2f}%\"\n",
    "        })\n",
    "\n",
    "    train_loss = running_loss / len(train_loader)\n",
    "    train_accuracy = 100 * correct / total\n",
    "\n",
    "    # Validation phase\n",
    "    model.eval()\n",
    "    val_loss = 0.0\n",
    "    val_correct = 0\n",
    "    val_total = 0\n",
    "    all_val_labels = []\n",
    "    all_val_predictions = []\n",
    "\n",
    "    with torch.no_grad():\n",
    "        for images, labels in val_loader:\n",
    "            images, labels = images.to(device), labels.to(device)\n",
    "\n",
    "            outputs = model(images)\n",
    "            loss = criterion(outputs, labels)\n",
    "\n",
    "            val_loss += loss.item()\n",
    "            _, predicted = torch.max(outputs, 1)\n",
    "            val_total += labels.size(0)\n",
    "            val_correct += (predicted == labels).sum().item()\n",
    "\n",
    "            all_val_labels.extend(labels.cpu().numpy())\n",
    "            all_val_predictions.extend(predicted.cpu().numpy())\n",
    "\n",
    "    val_loss /= len(val_loader)\n",
    "    val_accuracy = 100 * val_correct / val_total\n",
    "    val_precision = precision_score(all_val_labels, all_val_predictions, average='weighted')\n",
    "    val_recall = recall_score(all_val_labels, all_val_predictions, average='weighted')\n",
    "    val_f1 = f1_score(all_val_labels, all_val_predictions, average='weighted')\n",
    "\n",
    "    # Save metrics\n",
    "    metrics_history.append({\n",
    "        \"epoch\": epoch + 1,\n",
    "        \"train_loss\": train_loss,\n",
    "        \"train_accuracy\": train_accuracy,\n",
    "        \"val_loss\": val_loss,\n",
    "        \"val_accuracy\": val_accuracy,\n",
    "        \"val_precision\": val_precision,\n",
    "        \"val_recall\": val_recall,\n",
    "        \"val_f1_score\": val_f1,\n",
    "    })\n",
    "\n",
    "    metrics_df = pd.DataFrame(metrics_history)\n",
    "    metrics_df.to_csv(metrics_csv_path, index=False)\n",
    "\n",
    "    print(f\"Epoch [{epoch + 1}/{epochs}] - Train Loss: {train_loss:.4f}, Train Accuracy: {train_accuracy:.2f}%, \"\n",
    "          f\"Val Loss: {val_loss:.4f}, Val Accuracy: {val_accuracy:.2f}%, Val Precision: {val_precision:.2f}, \"\n",
    "          f\"Val Recall: {val_recall:.2f}, Val F1 Score: {val_f1:.2f}\")\n",
    "\n",
    "    # Save the best model based on validation accuracy\n",
    "    if val_accuracy > best_val:\n",
    "        best_accuracy = val_accuracy\n",
    "        best_model_path = os.path.join(checkpoint_dir, \"best_model_filtered_CNN_val.pth\")\n",
    "        torch.save({\n",
    "            'epoch': epoch + 1,\n",
    "            'model_state_dict': model.state_dict(),\n",
    "            'optimizer_state_dict': optimizer.state_dict(),\n",
    "            'loss': val_loss,\n",
    "            'accuracy': val_accuracy,\n",
    "        }, best_model_path)\n",
    "        print(f\"Best model updated with validation accuracy: {best_accuracy:.2f}%\")\n",
    "    if train_accuracy > best_train:\n",
    "        best_accuracy = train_accuracy\n",
    "        best_model_path = os.path.join(checkpoint_dir, \"best_model_filtered_CNN.pth\")\n",
    "        torch.save({\n",
    "            'epoch': epoch + 1,\n",
    "            'model_state_dict': model.state_dict(),\n",
    "            'optimizer_state_dict': optimizer.state_dict(),\n",
    "            'loss': val_loss,\n",
    "            'accuracy': train_accuracy,\n",
    "        }, best_model_path)\n",
    "        print(f\"Best model updated with train accuracy: {best_accuracy:.2f}%\")\n",
    "\n",
    "print(\"Training complete. Checkpoints and metrics saved.\")\n"
   ]
  },
  {
   "cell_type": "code",
   "execution_count": 8,
   "metadata": {
    "execution": {
     "iopub.execute_input": "2025-01-29T02:52:35.882034Z",
     "iopub.status.busy": "2025-01-29T02:52:35.881732Z",
     "iopub.status.idle": "2025-01-29T02:53:31.486298Z",
     "shell.execute_reply": "2025-01-29T02:53:31.485413Z",
     "shell.execute_reply.started": "2025-01-29T02:52:35.882003Z"
    },
    "trusted": true
   },
   "outputs": [
    {
     "name": "stdout",
     "output_type": "stream",
     "text": [
      "Confusion Matrix:\n",
      "[[   0 2796]\n",
      " [   0 2796]]\n",
      "\n",
      "Classification Report:\n",
      "              precision    recall  f1-score   support\n",
      "\n",
      "no oil spill       0.00      0.00      0.00      2796\n",
      "   oil spill       0.50      1.00      0.67      2796\n",
      "\n",
      "    accuracy                           0.50      5592\n",
      "   macro avg       0.25      0.50      0.33      5592\n",
      "weighted avg       0.25      0.50      0.33      5592\n",
      "\n",
      "Precision: 0.50\n",
      "Recall (Sensitivity, TPR): 1.00\n",
      "F1 Score: 0.67\n",
      "Cohen's Kappa: 0.00\n",
      "True Positive Rate (TPR): 1.00\n",
      "True Negative Rate (TNR): 0.00\n",
      "False Positive Rate (FPR): 1.00\n",
      "False Negative Rate (FNR): 0.00\n"
     ]
    },
    {
     "name": "stderr",
     "output_type": "stream",
     "text": [
      "/usr/local/lib/python3.10/dist-packages/sklearn/metrics/_classification.py:1344: UndefinedMetricWarning: Precision and F-score are ill-defined and being set to 0.0 in labels with no predicted samples. Use `zero_division` parameter to control this behavior.\n",
      "  _warn_prf(average, modifier, msg_start, len(result))\n",
      "/usr/local/lib/python3.10/dist-packages/sklearn/metrics/_classification.py:1344: UndefinedMetricWarning: Precision and F-score are ill-defined and being set to 0.0 in labels with no predicted samples. Use `zero_division` parameter to control this behavior.\n",
      "  _warn_prf(average, modifier, msg_start, len(result))\n",
      "/usr/local/lib/python3.10/dist-packages/sklearn/metrics/_classification.py:1344: UndefinedMetricWarning: Precision and F-score are ill-defined and being set to 0.0 in labels with no predicted samples. Use `zero_division` parameter to control this behavior.\n",
      "  _warn_prf(average, modifier, msg_start, len(result))\n"
     ]
    },
    {
     "data": {
      "image/png": "[encoded data removed]",
      "text/plain": [
       "<Figure size 640x480 with 2 Axes>"
      ]
     },
     "metadata": {},
     "output_type": "display_data"
    }
   ],
   "source": [
    "import torch\n",
    "import numpy as np\n",
    "from sklearn.metrics import (\n",
    "    confusion_matrix,\n",
    "    ConfusionMatrixDisplay,\n",
    "    precision_score,\n",
    "    recall_score,\n",
    "    f1_score,\n",
    "    cohen_kappa_score,\n",
    "    classification_report\n",
    ")\n",
    "import matplotlib.pyplot as plt\n",
    "\n",
    "# Step 2: Evaluate and Collect Predictions\n",
    "model.eval()\n",
    "all_preds = []\n",
    "all_labels = []\n",
    "\n",
    "with torch.no_grad():  # Disable gradient computation\n",
    "    for images, labels in train_loader:\n",
    "        images, labels = images.to(device), labels.to(device)\n",
    "        outputs = model(images)\n",
    "        _, preds = torch.max(outputs, 1)  # Get predicted class\n",
    "        all_preds.extend(preds.cpu().numpy())\n",
    "        all_labels.extend(labels.cpu().numpy())\n",
    "\n",
    "# Step 3: Generate Confusion Matrix\n",
    "cm = confusion_matrix(all_labels, all_preds)\n",
    "class_names = ['no oil spill', 'oil spill']  # Replace with your class names if needed\n",
    "\n",
    "# Extract True Positives (TP), False Positives (FP), True Negatives (TN), False Negatives (FN)\n",
    "TP = cm[1, 1]\n",
    "FP = cm[0, 1]\n",
    "TN = cm[0, 0]\n",
    "FN = cm[1, 0]\n",
    "\n",
    "# Metrics Calculations\n",
    "precision = precision_score(all_labels, all_preds, average='binary')\n",
    "recall = recall_score(all_labels, all_preds, average='binary')\n",
    "f1 = f1_score(all_labels, all_preds, average='binary')\n",
    "kappa = cohen_kappa_score(all_labels, all_preds)\n",
    "TPR = TP / (TP + FN) if (TP + FN) > 0 else 0  # True Positive Rate (Sensitivity)\n",
    "TNR = TN / (TN + FP) if (TN + FP) > 0 else 0  # True Negative Rate (Specificity)\n",
    "FPR = FP / (FP + TN) if (FP + TN) > 0 else 0  # False Positive Rate\n",
    "FNR = FN / (FN + TP) if (FN + TP) > 0 else 0  # False Negative Rate\n",
    "\n",
    "# Display Metrics\n",
    "print(\"Confusion Matrix:\")\n",
    "print(cm)\n",
    "print(\"\\nClassification Report:\")\n",
    "print(classification_report(all_labels, all_preds, target_names=class_names))\n",
    "print(f\"Precision: {precision:.2f}\")\n",
    "print(f\"Recall (Sensitivity, TPR): {recall:.2f}\")\n",
    "print(f\"F1 Score: {f1:.2f}\")\n",
    "print(f\"Cohen's Kappa: {kappa:.2f}\")\n",
    "print(f\"True Positive Rate (TPR): {TPR:.2f}\")\n",
    "print(f\"True Negative Rate (TNR): {TNR:.2f}\")\n",
    "print(f\"False Positive Rate (FPR): {FPR:.2f}\")\n",
    "print(f\"False Negative Rate (FNR): {FNR:.2f}\")\n",
    "\n",
    "# Step 4: Plot Confusion Matrix\n",
    "disp = ConfusionMatrixDisplay(confusion_matrix=cm, display_labels=class_names)\n",
    "disp.plot(cmap=plt.cm.Blues)\n",
    "plt.title(\"Confusion Matrix\")\n",
    "plt.show()\n"
   ]
  }
 ],
 "metadata": {
  "kaggle": {
   "accelerator": "nvidiaTeslaT4",
   "dataSources": [
    {
     "datasetId": 6538042,
     "sourceId": 10565750,
     "sourceType": "datasetVersion"
    }
   ],
   "dockerImageVersionId": 30840,
   "isGpuEnabled": true,
   "isInternetEnabled": true,
   "language": "python",
   "sourceType": "notebook"
  },
  "kernelspec": {
   "display_name": "Python 3",
   "language": "python",
   "name": "python3"
  },
  "language_info": {
   "codemirror_mode": {
    "name": "ipython",
    "version": 3
   },
   "file_extension": ".py",
   "mimetype": "text/x-python",
   "name": "python",
   "nbconvert_exporter": "python",
   "pygments_lexer": "ipython3",
   "version": "3.10.12"
  }
 },
 "nbformat": 4,
 "nbformat_minor": 4
}
