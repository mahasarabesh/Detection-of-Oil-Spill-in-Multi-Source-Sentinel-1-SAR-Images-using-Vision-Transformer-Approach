{
 "cells": [
  {
   "cell_type": "code",
   "execution_count": 1,
   "metadata": {
    "_cell_guid": "b1076dfc-b9ad-4769-8c92-a6c4dae69d19",
    "_uuid": "8f2839f25d086af736a60e9eeb907d3b93b6e0e5",
    "execution": {
     "iopub.execute_input": "2025-03-03T10:24:38.491880Z",
     "iopub.status.busy": "2025-03-03T10:24:38.491515Z",
     "iopub.status.idle": "2025-03-03T10:24:45.892398Z",
     "shell.execute_reply": "2025-03-03T10:24:45.891640Z",
     "shell.execute_reply.started": "2025-03-03T10:24:38.491849Z"
    },
    "trusted": true
   },
   "outputs": [
    {
     "name": "stdout",
     "output_type": "stream",
     "text": [
      "Collecting rasterio\n",
      "  Downloading rasterio-1.4.3-cp310-cp310-manylinux_2_17_x86_64.manylinux2014_x86_64.whl.metadata (9.1 kB)\n",
      "Requirement already satisfied: tqdm in /usr/local/lib/python3.10/dist-packages (4.67.1)\n",
      "Collecting affine (from rasterio)\n",
      "  Downloading affine-2.4.0-py3-none-any.whl.metadata (4.0 kB)\n",
      "Requirement already satisfied: attrs in /usr/local/lib/python3.10/dist-packages (from rasterio) (24.3.0)\n",
      "Requirement already satisfied: certifi in /usr/local/lib/python3.10/dist-packages (from rasterio) (2024.12.14)\n",
      "Requirement already satisfied: click>=4.0 in /usr/local/lib/python3.10/dist-packages (from rasterio) (8.1.7)\n",
      "Requirement already satisfied: cligj>=0.5 in /usr/local/lib/python3.10/dist-packages (from rasterio) (0.7.2)\n",
      "Requirement already satisfied: numpy>=1.24 in /usr/local/lib/python3.10/dist-packages (from rasterio) (1.26.4)\n",
      "Requirement already satisfied: click-plugins in /usr/local/lib/python3.10/dist-packages (from rasterio) (1.1.1)\n",
      "Requirement already satisfied: pyparsing in /usr/local/lib/python3.10/dist-packages (from rasterio) (3.2.0)\n",
      "Requirement already satisfied: mkl_fft in /usr/local/lib/python3.10/dist-packages (from numpy>=1.24->rasterio) (1.3.8)\n",
      "Requirement already satisfied: mkl_random in /usr/local/lib/python3.10/dist-packages (from numpy>=1.24->rasterio) (1.2.4)\n",
      "Requirement already satisfied: mkl_umath in /usr/local/lib/python3.10/dist-packages (from numpy>=1.24->rasterio) (0.1.1)\n",
      "Requirement already satisfied: mkl in /usr/local/lib/python3.10/dist-packages (from numpy>=1.24->rasterio) (2025.0.1)\n",
      "Requirement already satisfied: tbb4py in /usr/local/lib/python3.10/dist-packages (from numpy>=1.24->rasterio) (2022.0.0)\n",
      "Requirement already satisfied: mkl-service in /usr/local/lib/python3.10/dist-packages (from numpy>=1.24->rasterio) (2.4.1)\n",
      "Requirement already satisfied: intel-openmp>=2024 in /usr/local/lib/python3.10/dist-packages (from mkl->numpy>=1.24->rasterio) (2024.2.0)\n",
      "Requirement already satisfied: tbb==2022.* in /usr/local/lib/python3.10/dist-packages (from mkl->numpy>=1.24->rasterio) (2022.0.0)\n",
      "Requirement already satisfied: tcmlib==1.* in /usr/local/lib/python3.10/dist-packages (from tbb==2022.*->mkl->numpy>=1.24->rasterio) (1.2.0)\n",
      "Requirement already satisfied: intel-cmplr-lib-rt in /usr/local/lib/python3.10/dist-packages (from mkl_umath->numpy>=1.24->rasterio) (2024.2.0)\n",
      "Requirement already satisfied: intel-cmplr-lib-ur==2024.2.0 in /usr/local/lib/python3.10/dist-packages (from intel-openmp>=2024->mkl->numpy>=1.24->rasterio) (2024.2.0)\n",
      "Downloading rasterio-1.4.3-cp310-cp310-manylinux_2_17_x86_64.manylinux2014_x86_64.whl (22.2 MB)\n",
      "\u001b[2K   \u001b[90m━━━━━━━━━━━━━━━━━━━━━━━━━━━━━━━━━━━━━━━━\u001b[0m \u001b[32m22.2/22.2 MB\u001b[0m \u001b[31m8.6 MB/s\u001b[0m eta \u001b[36m0:00:00\u001b[0m00:01\u001b[0m00:01\u001b[0mmm\n",
      "\u001b[?25hDownloading affine-2.4.0-py3-none-any.whl (15 kB)\n",
      "Installing collected packages: affine, rasterio\n",
      "Successfully installed affine-2.4.0 rasterio-1.4.3\n"
     ]
    }
   ],
   "source": [
    "!pip install rasterio tqdm\n",
    "import os\n",
    "import rasterio\n",
    "import torch\n",
    "from torchvision import models, transforms\n",
    "from torch.utils.data import DataLoader, Dataset\n",
    "from torchvision.transforms import Compose, Normalize, Resize\n",
    "import matplotlib.pyplot as plt\n",
    "from collections import Counter\n",
    "class TifImageDataset(Dataset):\n",
    "    def __init__(self, image_dir, mask_dir, transform=None):\n",
    "        self.image_dir = image_dir\n",
    "        self.mask_dir = mask_dir\n",
    "        self.image_names = [f for f in os.listdir(image_dir) if f.endswith(\".tif\")]\n",
    "        self.transform = transform\n",
    "\n",
    "    def __len__(self):\n",
    "        return len(self.image_names)\n",
    "\n",
    "    def __getitem__(self, idx):\n",
    "    # Load the image using rasterio\n",
    "      img_name = self.image_names[idx]\n",
    "      img_path = os.path.join(self.image_dir, img_name)\n",
    "      with rasterio.open(img_path) as src:\n",
    "          image = src.read()  # Read all bands\n",
    "\n",
    "      # Convert image to PyTorch tensor\n",
    "      image = torch.tensor(image, dtype=torch.float32)\n",
    "\n",
    "      # Fix NaN values\n",
    "      for band in range(image.shape[0]):  # Iterate over bands\n",
    "          band_data = image[band, :, :]\n",
    "          nan_mask = torch.isnan(band_data)\n",
    "          if nan_mask.any():\n",
    "              mean_value = band_data[~nan_mask].mean()  # Mean of non-NaN values\n",
    "              band_data[nan_mask] = mean_value  # Replace NaN with the mean\n",
    "\n",
    "      # Ensure 3-channel image for consistency\n",
    "      if image.shape[0] == 3:\n",
    "          pass\n",
    "      elif image.shape[0] > 3:\n",
    "          image = image[:3, :, :]\n",
    "      else:\n",
    "          image = image.expand(3, image.shape[1], image.shape[2])\n",
    "\n",
    "      # Load the corresponding mask\n",
    "      mask_name = img_name.replace(\".tif\", \"_mask.tif\")\n",
    "      mask_path = os.path.join(self.mask_dir, mask_name)\n",
    "      with rasterio.open(mask_path) as src:\n",
    "          mask = src.read(1)  # Read single channel for binary mask\n",
    "\n",
    "      # Calculate the number of zeros and non-zeros in the mask\n",
    "      total_pixels = mask.size  # Total number of pixels in the mask\n",
    "      non_zero_pixels = (mask > 0).sum()  # Count of non-zero pixels\n",
    "      non_zero_percentage = (non_zero_pixels / total_pixels) * 100\n",
    "\n",
    "      # Determine label based on non-zero percentage\n",
    "      label = torch.tensor(1 if non_zero_percentage > 30 else 0, dtype=torch.long)\n",
    "\n",
    "      # Apply transforms if provided\n",
    "      if self.transform:\n",
    "          image = self.transform(image)\n",
    "\n",
    "      return image, label\n"
   ]
  },
  {
   "cell_type": "code",
   "execution_count": 2,
   "metadata": {
    "execution": {
     "iopub.execute_input": "2025-03-03T10:24:45.894010Z",
     "iopub.status.busy": "2025-03-03T10:24:45.893444Z",
     "iopub.status.idle": "2025-03-03T10:24:46.179520Z",
     "shell.execute_reply": "2025-03-03T10:24:46.178593Z",
     "shell.execute_reply.started": "2025-03-03T10:24:45.893983Z"
    },
    "trusted": true
   },
   "outputs": [
    {
     "name": "stdout",
     "output_type": "stream",
     "text": [
      "Image shape after processing: torch.Size([3, 224, 224]), Label: 1\n",
      "Image shape after processing: torch.Size([3, 224, 224]), Label: 1\n",
      "True\n",
      "12.1\n"
     ]
    }
   ],
   "source": [
    "from torchvision.transforms import Compose, Normalize, Resize, RandomHorizontalFlip, RandomVerticalFlip, RandomRotation, ColorJitter,GaussianBlur\n",
    "\n",
    "# Define transformations with augmentations\n",
    "input_size = 224  # Required input size for ViT\n",
    "transform = Compose([\n",
    "    Resize((input_size, input_size)),            # Resize to ViT-compatible dimensions\n",
    "    #RandomHorizontalFlip(p=0.5),                # Randomly flip images horizontally\n",
    "    #RandomVerticalFlip(p=0.5),                  # Randomly flip images vertically\n",
    "    #RandomRotation(degrees=15),                 # Randomly rotate images within ±15 degrees\n",
    "    #GaussianBlur(kernel_size=(3, 3)),\n",
    "    #ColorJitter(brightness=0.2, contrast=0.2, saturation=0.2, hue=0.1),  # Adjust color properties\n",
    "    Normalize(mean=(0.485, 0.456, 0.406), std=(0.229, 0.224, 0.225))     # ImageNet normalization\n",
    "])\n",
    "\n",
    "# Initialize dataset\n",
    "image_dir = \"/kaggle/input/sar-ds-r-filtered-bal/sar_ds_r_filtered_bal/image_patches\"\n",
    "mask_dir = \"/kaggle/input/sar-ds-r-filtered-bal/sar_ds_r_filtered_bal/mask_patches\"\n",
    "dataset = TifImageDataset(image_dir=image_dir, mask_dir=mask_dir, transform=transform)\n",
    "\n",
    "# Example to check output\n",
    "for image, label in dataset:\n",
    "    print(f\"Image shape after processing: {image.shape}, Label: {label}\")\n",
    "    break\n",
    "\n",
    "data_loader = DataLoader(dataset, batch_size=32, shuffle=True)\n",
    "for image, label in dataset:\n",
    "    print(f\"Image shape after processing: {image.shape}, Label: {label}\")\n",
    "    break\n",
    "data_loader = DataLoader(dataset, batch_size=32, shuffle=True)\n",
    "print(torch.cuda.is_available())\n",
    "print(torch.version.cuda)"
   ]
  },
  {
   "cell_type": "code",
   "execution_count": null,
   "metadata": {
    "execution": {
     "iopub.execute_input": "2025-03-02T18:08:25.827852Z",
     "iopub.status.busy": "2025-03-02T18:08:25.827561Z",
     "iopub.status.idle": "2025-03-02T18:32:45.395005Z",
     "shell.execute_reply": "2025-03-02T18:32:45.394124Z",
     "shell.execute_reply.started": "2025-03-02T18:08:25.827831Z"
    },
    "trusted": true
   },
   "outputs": [
    {
     "name": "stdout",
     "output_type": "stream",
     "text": [
      "Using 2 GPUs...\n",
      "Class distribution: {1: 3496, 0: 3496}\n"
     ]
    },
    {
     "name": "stderr",
     "output_type": "stream",
     "text": [
      "Epoch 1/15: 100%|██████████| 219/219 [01:36<00:00,  2.26it/s, Batch Loss=0.7088, Batch Accuracy=25.00%, Epoch Loss=0.6969, Epoch Accuracy=50.80%]\n"
     ]
    },
    {
     "name": "stdout",
     "output_type": "stream",
     "text": [
      "Epoch [1/15] - Loss: 0.6969, Accuracy: 50.80%, Precision: 0.51, Recall: 0.51, F1 Score: 0.45, MAE: 0.49\n",
      "Best model updated with accuracy: 50.80%\n"
     ]
    },
    {
     "name": "stderr",
     "output_type": "stream",
     "text": [
      "Epoch 2/15: 100%|██████████| 219/219 [01:36<00:00,  2.27it/s, Batch Loss=0.6961, Batch Accuracy=50.00%, Epoch Loss=0.6954, Epoch Accuracy=53.65%]\n"
     ]
    },
    {
     "name": "stdout",
     "output_type": "stream",
     "text": [
      "Epoch [2/15] - Loss: 0.6954, Accuracy: 53.65%, Precision: 0.56, Recall: 0.54, F1 Score: 0.49, MAE: 0.46\n",
      "Best model updated with accuracy: 53.65%\n"
     ]
    },
    {
     "name": "stderr",
     "output_type": "stream",
     "text": [
      "Epoch 3/15: 100%|██████████| 219/219 [01:36<00:00,  2.27it/s, Batch Loss=0.6945, Batch Accuracy=56.25%, Epoch Loss=0.6939, Epoch Accuracy=54.73%]\n"
     ]
    },
    {
     "name": "stdout",
     "output_type": "stream",
     "text": [
      "Epoch [3/15] - Loss: 0.6939, Accuracy: 54.73%, Precision: 0.56, Recall: 0.55, F1 Score: 0.51, MAE: 0.45\n",
      "Best model updated with accuracy: 54.73%\n"
     ]
    },
    {
     "name": "stderr",
     "output_type": "stream",
     "text": [
      "Epoch 4/15: 100%|██████████| 219/219 [01:37<00:00,  2.25it/s, Batch Loss=0.6889, Batch Accuracy=62.50%, Epoch Loss=0.6924, Epoch Accuracy=58.32%]\n"
     ]
    },
    {
     "name": "stdout",
     "output_type": "stream",
     "text": [
      "Epoch [4/15] - Loss: 0.6924, Accuracy: 58.32%, Precision: 0.60, Recall: 0.58, F1 Score: 0.56, MAE: 0.42\n",
      "Best model updated with accuracy: 58.32%\n"
     ]
    },
    {
     "name": "stderr",
     "output_type": "stream",
     "text": [
      "Epoch 5/15: 100%|██████████| 219/219 [01:36<00:00,  2.27it/s, Batch Loss=0.6912, Batch Accuracy=68.75%, Epoch Loss=0.6912, Epoch Accuracy=59.61%]\n"
     ]
    },
    {
     "name": "stdout",
     "output_type": "stream",
     "text": [
      "Epoch [5/15] - Loss: 0.6912, Accuracy: 59.61%, Precision: 0.61, Recall: 0.60, F1 Score: 0.58, MAE: 0.40\n",
      "Best model updated with accuracy: 59.61%\n"
     ]
    },
    {
     "name": "stderr",
     "output_type": "stream",
     "text": [
      "Epoch 6/15: 100%|██████████| 219/219 [01:37<00:00,  2.25it/s, Batch Loss=0.6842, Batch Accuracy=81.25%, Epoch Loss=0.6893, Epoch Accuracy=63.36%]\n"
     ]
    },
    {
     "name": "stdout",
     "output_type": "stream",
     "text": [
      "Epoch [6/15] - Loss: 0.6893, Accuracy: 63.36%, Precision: 0.64, Recall: 0.63, F1 Score: 0.63, MAE: 0.37\n",
      "Best model updated with accuracy: 63.36%\n"
     ]
    },
    {
     "name": "stderr",
     "output_type": "stream",
     "text": [
      "Epoch 7/15: 100%|██████████| 219/219 [01:36<00:00,  2.26it/s, Batch Loss=0.6887, Batch Accuracy=62.50%, Epoch Loss=0.6879, Epoch Accuracy=65.05%]\n"
     ]
    },
    {
     "name": "stdout",
     "output_type": "stream",
     "text": [
      "Epoch [7/15] - Loss: 0.6879, Accuracy: 65.05%, Precision: 0.66, Recall: 0.65, F1 Score: 0.65, MAE: 0.35\n",
      "Best model updated with accuracy: 65.05%\n"
     ]
    },
    {
     "name": "stderr",
     "output_type": "stream",
     "text": [
      "Epoch 8/15: 100%|██████████| 219/219 [01:36<00:00,  2.27it/s, Batch Loss=0.6840, Batch Accuracy=62.50%, Epoch Loss=0.6865, Epoch Accuracy=66.16%]\n"
     ]
    },
    {
     "name": "stdout",
     "output_type": "stream",
     "text": [
      "Epoch [8/15] - Loss: 0.6865, Accuracy: 66.16%, Precision: 0.66, Recall: 0.66, F1 Score: 0.66, MAE: 0.34\n",
      "Best model updated with accuracy: 66.16%\n"
     ]
    },
    {
     "name": "stderr",
     "output_type": "stream",
     "text": [
      "Epoch 9/15: 100%|██████████| 219/219 [01:36<00:00,  2.27it/s, Batch Loss=0.6898, Batch Accuracy=68.75%, Epoch Loss=0.6852, Epoch Accuracy=68.52%]\n"
     ]
    },
    {
     "name": "stdout",
     "output_type": "stream",
     "text": [
      "Epoch [9/15] - Loss: 0.6852, Accuracy: 68.52%, Precision: 0.69, Recall: 0.69, F1 Score: 0.69, MAE: 0.31\n",
      "Best model updated with accuracy: 68.52%\n"
     ]
    },
    {
     "name": "stderr",
     "output_type": "stream",
     "text": [
      "Epoch 10/15: 100%|██████████| 219/219 [01:35<00:00,  2.29it/s, Batch Loss=0.6840, Batch Accuracy=68.75%, Epoch Loss=0.6835, Epoch Accuracy=70.34%]\n"
     ]
    },
    {
     "name": "stdout",
     "output_type": "stream",
     "text": [
      "Epoch [10/15] - Loss: 0.6835, Accuracy: 70.34%, Precision: 0.70, Recall: 0.70, F1 Score: 0.70, MAE: 0.30\n",
      "Best model updated with accuracy: 70.34%\n"
     ]
    },
    {
     "name": "stderr",
     "output_type": "stream",
     "text": [
      "Epoch 11/15: 100%|██████████| 219/219 [01:36<00:00,  2.27it/s, Batch Loss=0.6817, Batch Accuracy=75.00%, Epoch Loss=0.6816, Epoch Accuracy=70.97%]\n"
     ]
    },
    {
     "name": "stdout",
     "output_type": "stream",
     "text": [
      "Epoch [11/15] - Loss: 0.6816, Accuracy: 70.97%, Precision: 0.71, Recall: 0.71, F1 Score: 0.71, MAE: 0.29\n",
      "Best model updated with accuracy: 70.97%\n"
     ]
    },
    {
     "name": "stderr",
     "output_type": "stream",
     "text": [
      "Epoch 12/15: 100%|██████████| 219/219 [01:37<00:00,  2.25it/s, Batch Loss=0.6898, Batch Accuracy=68.75%, Epoch Loss=0.6802, Epoch Accuracy=73.00%]\n"
     ]
    },
    {
     "name": "stdout",
     "output_type": "stream",
     "text": [
      "Epoch [12/15] - Loss: 0.6802, Accuracy: 73.00%, Precision: 0.74, Recall: 0.73, F1 Score: 0.73, MAE: 0.27\n",
      "Best model updated with accuracy: 73.00%\n"
     ]
    },
    {
     "name": "stderr",
     "output_type": "stream",
     "text": [
      "Epoch 13/15: 100%|██████████| 219/219 [01:36<00:00,  2.27it/s, Batch Loss=0.6808, Batch Accuracy=75.00%, Epoch Loss=0.6783, Epoch Accuracy=73.76%]\n"
     ]
    },
    {
     "name": "stdout",
     "output_type": "stream",
     "text": [
      "Epoch [13/15] - Loss: 0.6783, Accuracy: 73.76%, Precision: 0.75, Recall: 0.74, F1 Score: 0.73, MAE: 0.26\n",
      "Best model updated with accuracy: 73.76%\n"
     ]
    },
    {
     "name": "stderr",
     "output_type": "stream",
     "text": [
      "Epoch 14/15: 100%|██████████| 219/219 [01:36<00:00,  2.27it/s, Batch Loss=0.6820, Batch Accuracy=75.00%, Epoch Loss=0.6766, Epoch Accuracy=73.63%]\n"
     ]
    },
    {
     "name": "stdout",
     "output_type": "stream",
     "text": [
      "Epoch [14/15] - Loss: 0.6766, Accuracy: 73.63%, Precision: 0.75, Recall: 0.74, F1 Score: 0.73, MAE: 0.26\n"
     ]
    },
    {
     "name": "stderr",
     "output_type": "stream",
     "text": [
      "Epoch 15/15: 100%|██████████| 219/219 [01:37<00:00,  2.25it/s, Batch Loss=0.6736, Batch Accuracy=93.75%, Epoch Loss=0.6749, Epoch Accuracy=74.46%]\n"
     ]
    },
    {
     "name": "stdout",
     "output_type": "stream",
     "text": [
      "Epoch [15/15] - Loss: 0.6749, Accuracy: 74.46%, Precision: 0.77, Recall: 0.74, F1 Score: 0.74, MAE: 0.26\n",
      "Best model updated with accuracy: 74.46%\n",
      "Training complete. Checkpoints and metrics saved.\n"
     ]
    }
   ],
   "source": [
    "import os\n",
    "import pickle\n",
    "import torch\n",
    "from collections import Counter\n",
    "from torchvision import models\n",
    "from tqdm import tqdm\n",
    "from timm import create_model\n",
    "from torch import nn, optim\n",
    "from sklearn.metrics import precision_score, recall_score, f1_score, mean_absolute_error\n",
    "import pandas as pd\n",
    "\n",
    "\n",
    "model = models.resnet50(weights=models.ResNet50_Weights.DEFAULT)\n",
    "num_classes = 2  # Binary classification\n",
    "model.fc = torch.nn.Sequential(\n",
    "    torch.nn.Linear(model.fc.in_features, num_classes),\n",
    "    torch.nn.Sigmoid()\n",
    ")\n",
    "\n",
    "# Enable DataParallel for multi-GPU support\n",
    "device = torch.device(\"cuda\" if torch.cuda.is_available() else \"cpu\")\n",
    "if torch.cuda.device_count() > 1:\n",
    "    print(f\"Using {torch.cuda.device_count()} GPUs...\")\n",
    "    model = torch.nn.DataParallel(model)\n",
    "\n",
    "model.to(device)\n",
    "\n",
    "# Check class distribution\n",
    "class_counts = Counter(label.item() for _, label in dataset)\n",
    "print(f\"Class distribution: {class_counts}\")\n",
    "\n",
    "class_weights = torch.tensor([1.0, len(dataset) / class_counts[1]], device=device)\n",
    "criterion = torch.nn.CrossEntropyLoss(weight=class_weights)\n",
    "optimizer = torch.optim.Adam(model.parameters(), lr=1e-7)\n",
    "\n",
    "# Initialize lists to store metrics\n",
    "metrics_history = []\n",
    "checkpoint_dir = \"\"\n",
    "#os.makedirs(checkpoint_dir, exist_ok=True)  # Create directory if it doesn't exist\n",
    "metrics_csv_path = os.path.join(checkpoint_dir, \"metrics_history_bal_40_L.csv\")\n",
    "\n",
    "best_accuracy = 0.0  # To track the best model\n",
    "\n",
    "# Training loop with checkpoint saving\n",
    "epochs = 15\n",
    "for epoch in range(epochs):\n",
    "    model.train()\n",
    "    running_loss = 0.0\n",
    "    correct = 0\n",
    "    total = 0\n",
    "    all_labels = []\n",
    "    all_predictions = []\n",
    "\n",
    "    # Initialize progress bar for the current epoch\n",
    "    progress_bar = tqdm(enumerate(data_loader), total=len(data_loader), desc=f\"Epoch {epoch + 1}/{epochs}\")\n",
    "\n",
    "    for batch_idx, (images, labels) in progress_bar:\n",
    "        images, labels = images.to(device), labels.to(device)\n",
    "\n",
    "        # Forward pass\n",
    "        outputs = model(images)\n",
    "        loss = criterion(outputs, labels)\n",
    "\n",
    "        # Backward pass\n",
    "        optimizer.zero_grad()\n",
    "        loss.backward()\n",
    "        optimizer.step()\n",
    "\n",
    "        # Update running metrics\n",
    "        running_loss += loss.item()\n",
    "        _, predicted = torch.max(outputs, 1)\n",
    "        total += labels.size(0)\n",
    "        correct += (predicted == labels).sum().item()\n",
    "\n",
    "        all_labels.extend(labels.cpu().numpy())\n",
    "        all_predictions.extend(predicted.cpu().numpy())\n",
    "\n",
    "        # Calculate batch metrics\n",
    "        batch_loss = loss.item()\n",
    "        batch_accuracy = 100 * (predicted == labels).sum().item() / labels.size(0)\n",
    "\n",
    "        progress_bar.set_postfix({\n",
    "            \"Batch Loss\": f\"{batch_loss:.4f}\",\n",
    "            \"Batch Accuracy\": f\"{batch_accuracy:.2f}%\",\n",
    "            \"Epoch Loss\": f\"{running_loss / (batch_idx + 1):.4f}\",\n",
    "            \"Epoch Accuracy\": f\"{100 * correct / total:.2f}%\"\n",
    "        })\n",
    "\n",
    "    # Compute additional metrics\n",
    "    epoch_loss = running_loss / len(data_loader)\n",
    "    epoch_accuracy = 100 * correct / total\n",
    "    epoch_precision = precision_score(all_labels, all_predictions, average='weighted')\n",
    "    epoch_recall = recall_score(all_labels, all_predictions, average='weighted')\n",
    "    epoch_f1 = f1_score(all_labels, all_predictions, average='weighted')\n",
    "    epoch_mae = mean_absolute_error(all_labels, all_predictions)\n",
    "\n",
    "    # Save metrics\n",
    "    metrics_history.append({\n",
    "        \"epoch\": epoch + 1,\n",
    "        \"loss\": epoch_loss,\n",
    "        \"accuracy\": epoch_accuracy,\n",
    "        \"precision\": epoch_precision,\n",
    "        \"recall\": epoch_recall,\n",
    "        \"f1_score\": epoch_f1,\n",
    "        \"mae\": epoch_mae\n",
    "    })\n",
    "\n",
    "    # Write metrics to CSV\n",
    "    metrics_df = pd.DataFrame(metrics_history)\n",
    "    metrics_df.to_csv(metrics_csv_path, index=False)\n",
    "\n",
    "    print(f\"Epoch [{epoch + 1}/{epochs}] - Loss: {epoch_loss:.4f}, Accuracy: {epoch_accuracy:.2f}%, Precision: {epoch_precision:.2f}, Recall: {epoch_recall:.2f}, F1 Score: {epoch_f1:.2f}, MAE: {epoch_mae:.2f}\")\n",
    "\n",
    "    # Save the best model\n",
    "    if epoch_accuracy > best_accuracy:\n",
    "        best_accuracy = epoch_accuracy\n",
    "        best_model_path = os.path.join(checkpoint_dir, \"best_model_bal_40_L.pth\")\n",
    "        torch.save({\n",
    "            'epoch': epoch + 1,\n",
    "            'model_state_dict': model.state_dict(),\n",
    "            'optimizer_state_dict': optimizer.state_dict(),\n",
    "            'loss': epoch_loss,\n",
    "            'accuracy': epoch_accuracy,\n",
    "        }, best_model_path)\n",
    "        print(f\"Best model updated with accuracy: {best_accuracy:.2f}%\")\n",
    "\n",
    "print(\"Training complete. Checkpoints and metrics saved.\")\n"
   ]
  },
  {
   "cell_type": "code",
   "execution_count": 3,
   "metadata": {
    "execution": {
     "iopub.execute_input": "2025-03-03T10:25:07.991011Z",
     "iopub.status.busy": "2025-03-03T10:25:07.990565Z",
     "iopub.status.idle": "2025-03-03T10:25:16.042775Z",
     "shell.execute_reply": "2025-03-03T10:25:16.041896Z",
     "shell.execute_reply.started": "2025-03-03T10:25:07.990972Z"
    },
    "trusted": true
   },
   "outputs": [
    {
     "name": "stderr",
     "output_type": "stream",
     "text": [
      "Downloading: \"https://download.pytorch.org/models/resnet50-11ad3fa6.pth\" to /root/.cache/torch/hub/checkpoints/resnet50-11ad3fa6.pth\n",
      "100%|██████████| 97.8M/97.8M [00:05<00:00, 20.0MB/s]\n"
     ]
    },
    {
     "name": "stdout",
     "output_type": "stream",
     "text": [
      "Using 2 GPUs...\n"
     ]
    },
    {
     "data": {
      "text/plain": [
       "DataParallel(\n",
       "  (module): ResNet(\n",
       "    (conv1): Conv2d(3, 64, kernel_size=(7, 7), stride=(2, 2), padding=(3, 3), bias=False)\n",
       "    (bn1): BatchNorm2d(64, eps=1e-05, momentum=0.1, affine=True, track_running_stats=True)\n",
       "    (relu): ReLU(inplace=True)\n",
       "    (maxpool): MaxPool2d(kernel_size=3, stride=2, padding=1, dilation=1, ceil_mode=False)\n",
       "    (layer1): Sequential(\n",
       "      (0): Bottleneck(\n",
       "        (conv1): Conv2d(64, 64, kernel_size=(1, 1), stride=(1, 1), bias=False)\n",
       "        (bn1): BatchNorm2d(64, eps=1e-05, momentum=0.1, affine=True, track_running_stats=True)\n",
       "        (conv2): Conv2d(64, 64, kernel_size=(3, 3), stride=(1, 1), padding=(1, 1), bias=False)\n",
       "        (bn2): BatchNorm2d(64, eps=1e-05, momentum=0.1, affine=True, track_running_stats=True)\n",
       "        (conv3): Conv2d(64, 256, kernel_size=(1, 1), stride=(1, 1), bias=False)\n",
       "        (bn3): BatchNorm2d(256, eps=1e-05, momentum=0.1, affine=True, track_running_stats=True)\n",
       "        (relu): ReLU(inplace=True)\n",
       "        (downsample): Sequential(\n",
       "          (0): Conv2d(64, 256, kernel_size=(1, 1), stride=(1, 1), bias=False)\n",
       "          (1): BatchNorm2d(256, eps=1e-05, momentum=0.1, affine=True, track_running_stats=True)\n",
       "        )\n",
       "      )\n",
       "      (1): Bottleneck(\n",
       "        (conv1): Conv2d(256, 64, kernel_size=(1, 1), stride=(1, 1), bias=False)\n",
       "        (bn1): BatchNorm2d(64, eps=1e-05, momentum=0.1, affine=True, track_running_stats=True)\n",
       "        (conv2): Conv2d(64, 64, kernel_size=(3, 3), stride=(1, 1), padding=(1, 1), bias=False)\n",
       "        (bn2): BatchNorm2d(64, eps=1e-05, momentum=0.1, affine=True, track_running_stats=True)\n",
       "        (conv3): Conv2d(64, 256, kernel_size=(1, 1), stride=(1, 1), bias=False)\n",
       "        (bn3): BatchNorm2d(256, eps=1e-05, momentum=0.1, affine=True, track_running_stats=True)\n",
       "        (relu): ReLU(inplace=True)\n",
       "      )\n",
       "      (2): Bottleneck(\n",
       "        (conv1): Conv2d(256, 64, kernel_size=(1, 1), stride=(1, 1), bias=False)\n",
       "        (bn1): BatchNorm2d(64, eps=1e-05, momentum=0.1, affine=True, track_running_stats=True)\n",
       "        (conv2): Conv2d(64, 64, kernel_size=(3, 3), stride=(1, 1), padding=(1, 1), bias=False)\n",
       "        (bn2): BatchNorm2d(64, eps=1e-05, momentum=0.1, affine=True, track_running_stats=True)\n",
       "        (conv3): Conv2d(64, 256, kernel_size=(1, 1), stride=(1, 1), bias=False)\n",
       "        (bn3): BatchNorm2d(256, eps=1e-05, momentum=0.1, affine=True, track_running_stats=True)\n",
       "        (relu): ReLU(inplace=True)\n",
       "      )\n",
       "    )\n",
       "    (layer2): Sequential(\n",
       "      (0): Bottleneck(\n",
       "        (conv1): Conv2d(256, 128, kernel_size=(1, 1), stride=(1, 1), bias=False)\n",
       "        (bn1): BatchNorm2d(128, eps=1e-05, momentum=0.1, affine=True, track_running_stats=True)\n",
       "        (conv2): Conv2d(128, 128, kernel_size=(3, 3), stride=(2, 2), padding=(1, 1), bias=False)\n",
       "        (bn2): BatchNorm2d(128, eps=1e-05, momentum=0.1, affine=True, track_running_stats=True)\n",
       "        (conv3): Conv2d(128, 512, kernel_size=(1, 1), stride=(1, 1), bias=False)\n",
       "        (bn3): BatchNorm2d(512, eps=1e-05, momentum=0.1, affine=True, track_running_stats=True)\n",
       "        (relu): ReLU(inplace=True)\n",
       "        (downsample): Sequential(\n",
       "          (0): Conv2d(256, 512, kernel_size=(1, 1), stride=(2, 2), bias=False)\n",
       "          (1): BatchNorm2d(512, eps=1e-05, momentum=0.1, affine=True, track_running_stats=True)\n",
       "        )\n",
       "      )\n",
       "      (1): Bottleneck(\n",
       "        (conv1): Conv2d(512, 128, kernel_size=(1, 1), stride=(1, 1), bias=False)\n",
       "        (bn1): BatchNorm2d(128, eps=1e-05, momentum=0.1, affine=True, track_running_stats=True)\n",
       "        (conv2): Conv2d(128, 128, kernel_size=(3, 3), stride=(1, 1), padding=(1, 1), bias=False)\n",
       "        (bn2): BatchNorm2d(128, eps=1e-05, momentum=0.1, affine=True, track_running_stats=True)\n",
       "        (conv3): Conv2d(128, 512, kernel_size=(1, 1), stride=(1, 1), bias=False)\n",
       "        (bn3): BatchNorm2d(512, eps=1e-05, momentum=0.1, affine=True, track_running_stats=True)\n",
       "        (relu): ReLU(inplace=True)\n",
       "      )\n",
       "      (2): Bottleneck(\n",
       "        (conv1): Conv2d(512, 128, kernel_size=(1, 1), stride=(1, 1), bias=False)\n",
       "        (bn1): BatchNorm2d(128, eps=1e-05, momentum=0.1, affine=True, track_running_stats=True)\n",
       "        (conv2): Conv2d(128, 128, kernel_size=(3, 3), stride=(1, 1), padding=(1, 1), bias=False)\n",
       "        (bn2): BatchNorm2d(128, eps=1e-05, momentum=0.1, affine=True, track_running_stats=True)\n",
       "        (conv3): Conv2d(128, 512, kernel_size=(1, 1), stride=(1, 1), bias=False)\n",
       "        (bn3): BatchNorm2d(512, eps=1e-05, momentum=0.1, affine=True, track_running_stats=True)\n",
       "        (relu): ReLU(inplace=True)\n",
       "      )\n",
       "      (3): Bottleneck(\n",
       "        (conv1): Conv2d(512, 128, kernel_size=(1, 1), stride=(1, 1), bias=False)\n",
       "        (bn1): BatchNorm2d(128, eps=1e-05, momentum=0.1, affine=True, track_running_stats=True)\n",
       "        (conv2): Conv2d(128, 128, kernel_size=(3, 3), stride=(1, 1), padding=(1, 1), bias=False)\n",
       "        (bn2): BatchNorm2d(128, eps=1e-05, momentum=0.1, affine=True, track_running_stats=True)\n",
       "        (conv3): Conv2d(128, 512, kernel_size=(1, 1), stride=(1, 1), bias=False)\n",
       "        (bn3): BatchNorm2d(512, eps=1e-05, momentum=0.1, affine=True, track_running_stats=True)\n",
       "        (relu): ReLU(inplace=True)\n",
       "      )\n",
       "    )\n",
       "    (layer3): Sequential(\n",
       "      (0): Bottleneck(\n",
       "        (conv1): Conv2d(512, 256, kernel_size=(1, 1), stride=(1, 1), bias=False)\n",
       "        (bn1): BatchNorm2d(256, eps=1e-05, momentum=0.1, affine=True, track_running_stats=True)\n",
       "        (conv2): Conv2d(256, 256, kernel_size=(3, 3), stride=(2, 2), padding=(1, 1), bias=False)\n",
       "        (bn2): BatchNorm2d(256, eps=1e-05, momentum=0.1, affine=True, track_running_stats=True)\n",
       "        (conv3): Conv2d(256, 1024, kernel_size=(1, 1), stride=(1, 1), bias=False)\n",
       "        (bn3): BatchNorm2d(1024, eps=1e-05, momentum=0.1, affine=True, track_running_stats=True)\n",
       "        (relu): ReLU(inplace=True)\n",
       "        (downsample): Sequential(\n",
       "          (0): Conv2d(512, 1024, kernel_size=(1, 1), stride=(2, 2), bias=False)\n",
       "          (1): BatchNorm2d(1024, eps=1e-05, momentum=0.1, affine=True, track_running_stats=True)\n",
       "        )\n",
       "      )\n",
       "      (1): Bottleneck(\n",
       "        (conv1): Conv2d(1024, 256, kernel_size=(1, 1), stride=(1, 1), bias=False)\n",
       "        (bn1): BatchNorm2d(256, eps=1e-05, momentum=0.1, affine=True, track_running_stats=True)\n",
       "        (conv2): Conv2d(256, 256, kernel_size=(3, 3), stride=(1, 1), padding=(1, 1), bias=False)\n",
       "        (bn2): BatchNorm2d(256, eps=1e-05, momentum=0.1, affine=True, track_running_stats=True)\n",
       "        (conv3): Conv2d(256, 1024, kernel_size=(1, 1), stride=(1, 1), bias=False)\n",
       "        (bn3): BatchNorm2d(1024, eps=1e-05, momentum=0.1, affine=True, track_running_stats=True)\n",
       "        (relu): ReLU(inplace=True)\n",
       "      )\n",
       "      (2): Bottleneck(\n",
       "        (conv1): Conv2d(1024, 256, kernel_size=(1, 1), stride=(1, 1), bias=False)\n",
       "        (bn1): BatchNorm2d(256, eps=1e-05, momentum=0.1, affine=True, track_running_stats=True)\n",
       "        (conv2): Conv2d(256, 256, kernel_size=(3, 3), stride=(1, 1), padding=(1, 1), bias=False)\n",
       "        (bn2): BatchNorm2d(256, eps=1e-05, momentum=0.1, affine=True, track_running_stats=True)\n",
       "        (conv3): Conv2d(256, 1024, kernel_size=(1, 1), stride=(1, 1), bias=False)\n",
       "        (bn3): BatchNorm2d(1024, eps=1e-05, momentum=0.1, affine=True, track_running_stats=True)\n",
       "        (relu): ReLU(inplace=True)\n",
       "      )\n",
       "      (3): Bottleneck(\n",
       "        (conv1): Conv2d(1024, 256, kernel_size=(1, 1), stride=(1, 1), bias=False)\n",
       "        (bn1): BatchNorm2d(256, eps=1e-05, momentum=0.1, affine=True, track_running_stats=True)\n",
       "        (conv2): Conv2d(256, 256, kernel_size=(3, 3), stride=(1, 1), padding=(1, 1), bias=False)\n",
       "        (bn2): BatchNorm2d(256, eps=1e-05, momentum=0.1, affine=True, track_running_stats=True)\n",
       "        (conv3): Conv2d(256, 1024, kernel_size=(1, 1), stride=(1, 1), bias=False)\n",
       "        (bn3): BatchNorm2d(1024, eps=1e-05, momentum=0.1, affine=True, track_running_stats=True)\n",
       "        (relu): ReLU(inplace=True)\n",
       "      )\n",
       "      (4): Bottleneck(\n",
       "        (conv1): Conv2d(1024, 256, kernel_size=(1, 1), stride=(1, 1), bias=False)\n",
       "        (bn1): BatchNorm2d(256, eps=1e-05, momentum=0.1, affine=True, track_running_stats=True)\n",
       "        (conv2): Conv2d(256, 256, kernel_size=(3, 3), stride=(1, 1), padding=(1, 1), bias=False)\n",
       "        (bn2): BatchNorm2d(256, eps=1e-05, momentum=0.1, affine=True, track_running_stats=True)\n",
       "        (conv3): Conv2d(256, 1024, kernel_size=(1, 1), stride=(1, 1), bias=False)\n",
       "        (bn3): BatchNorm2d(1024, eps=1e-05, momentum=0.1, affine=True, track_running_stats=True)\n",
       "        (relu): ReLU(inplace=True)\n",
       "      )\n",
       "      (5): Bottleneck(\n",
       "        (conv1): Conv2d(1024, 256, kernel_size=(1, 1), stride=(1, 1), bias=False)\n",
       "        (bn1): BatchNorm2d(256, eps=1e-05, momentum=0.1, affine=True, track_running_stats=True)\n",
       "        (conv2): Conv2d(256, 256, kernel_size=(3, 3), stride=(1, 1), padding=(1, 1), bias=False)\n",
       "        (bn2): BatchNorm2d(256, eps=1e-05, momentum=0.1, affine=True, track_running_stats=True)\n",
       "        (conv3): Conv2d(256, 1024, kernel_size=(1, 1), stride=(1, 1), bias=False)\n",
       "        (bn3): BatchNorm2d(1024, eps=1e-05, momentum=0.1, affine=True, track_running_stats=True)\n",
       "        (relu): ReLU(inplace=True)\n",
       "      )\n",
       "    )\n",
       "    (layer4): Sequential(\n",
       "      (0): Bottleneck(\n",
       "        (conv1): Conv2d(1024, 512, kernel_size=(1, 1), stride=(1, 1), bias=False)\n",
       "        (bn1): BatchNorm2d(512, eps=1e-05, momentum=0.1, affine=True, track_running_stats=True)\n",
       "        (conv2): Conv2d(512, 512, kernel_size=(3, 3), stride=(2, 2), padding=(1, 1), bias=False)\n",
       "        (bn2): BatchNorm2d(512, eps=1e-05, momentum=0.1, affine=True, track_running_stats=True)\n",
       "        (conv3): Conv2d(512, 2048, kernel_size=(1, 1), stride=(1, 1), bias=False)\n",
       "        (bn3): BatchNorm2d(2048, eps=1e-05, momentum=0.1, affine=True, track_running_stats=True)\n",
       "        (relu): ReLU(inplace=True)\n",
       "        (downsample): Sequential(\n",
       "          (0): Conv2d(1024, 2048, kernel_size=(1, 1), stride=(2, 2), bias=False)\n",
       "          (1): BatchNorm2d(2048, eps=1e-05, momentum=0.1, affine=True, track_running_stats=True)\n",
       "        )\n",
       "      )\n",
       "      (1): Bottleneck(\n",
       "        (conv1): Conv2d(2048, 512, kernel_size=(1, 1), stride=(1, 1), bias=False)\n",
       "        (bn1): BatchNorm2d(512, eps=1e-05, momentum=0.1, affine=True, track_running_stats=True)\n",
       "        (conv2): Conv2d(512, 512, kernel_size=(3, 3), stride=(1, 1), padding=(1, 1), bias=False)\n",
       "        (bn2): BatchNorm2d(512, eps=1e-05, momentum=0.1, affine=True, track_running_stats=True)\n",
       "        (conv3): Conv2d(512, 2048, kernel_size=(1, 1), stride=(1, 1), bias=False)\n",
       "        (bn3): BatchNorm2d(2048, eps=1e-05, momentum=0.1, affine=True, track_running_stats=True)\n",
       "        (relu): ReLU(inplace=True)\n",
       "      )\n",
       "      (2): Bottleneck(\n",
       "        (conv1): Conv2d(2048, 512, kernel_size=(1, 1), stride=(1, 1), bias=False)\n",
       "        (bn1): BatchNorm2d(512, eps=1e-05, momentum=0.1, affine=True, track_running_stats=True)\n",
       "        (conv2): Conv2d(512, 512, kernel_size=(3, 3), stride=(1, 1), padding=(1, 1), bias=False)\n",
       "        (bn2): BatchNorm2d(512, eps=1e-05, momentum=0.1, affine=True, track_running_stats=True)\n",
       "        (conv3): Conv2d(512, 2048, kernel_size=(1, 1), stride=(1, 1), bias=False)\n",
       "        (bn3): BatchNorm2d(2048, eps=1e-05, momentum=0.1, affine=True, track_running_stats=True)\n",
       "        (relu): ReLU(inplace=True)\n",
       "      )\n",
       "    )\n",
       "    (avgpool): AdaptiveAvgPool2d(output_size=(1, 1))\n",
       "    (fc): Sequential(\n",
       "      (0): Linear(in_features=2048, out_features=2, bias=True)\n",
       "      (1): Sigmoid()\n",
       "    )\n",
       "  )\n",
       ")"
      ]
     },
     "execution_count": 3,
     "metadata": {},
     "output_type": "execute_result"
    }
   ],
   "source": [
    "from sklearn.metrics import confusion_matrix, ConfusionMatrixDisplay\n",
    "import numpy as np\n",
    "import matplotlib.pyplot as plt\n",
    "import torch\n",
    "import torchvision.models as models\n",
    "\n",
    "# Step 1: Define Model and Load Weights\n",
    "# Step 4: Load Pre-trained ViT Model\n",
    "model = models.resnet50(weights=models.ResNet50_Weights.DEFAULT)\n",
    "num_classes = 2  # Binary classification\n",
    "model.fc = torch.nn.Sequential(\n",
    "    torch.nn.Linear(model.fc.in_features, num_classes),\n",
    "    torch.nn.Sigmoid()\n",
    ")\n",
    "\n",
    "# Enable DataParallel for multi-GPU support\n",
    "device = torch.device(\"cuda\" if torch.cuda.is_available() else \"cpu\")\n",
    "if torch.cuda.device_count() > 1:\n",
    "    print(f\"Using {torch.cuda.device_count()} GPUs...\")\n",
    "    model = torch.nn.DataParallel(model)\n",
    "\n",
    "model.to(device)\n",
    "from collections import OrderedDict \n",
    "#models.resnet50(weights=models.ResNet50_Weights.DEFAULT)\n",
    "checkpoint_path = \"/kaggle/working/best_model_bal_40_L.pth\"  # Replace with the desired epoch checkpoint file\n",
    "checkpoint = torch.load(checkpoint_path, map_location=device,weights_only=True)\n",
    "state_dict = checkpoint['model_state_dict']\n",
    "\n",
    "# Remove 'module.' prefix from state dict keys if present\n",
    "new_state_dict = OrderedDict()\n",
    "for key, value in state_dict.items():\n",
    "    new_key = key.replace(\"module.\", \"\")\n",
    "    new_state_dict[new_key] = value\n",
    "\n",
    "# Load the modified state dict into the model\n",
    "model.load_state_dict(state_dict)\n",
    "model.eval()  # Set model to evaluation mode"
   ]
  },
  {
   "cell_type": "code",
   "execution_count": 5,
   "metadata": {
    "execution": {
     "iopub.execute_input": "2025-03-03T10:26:20.155440Z",
     "iopub.status.busy": "2025-03-03T10:26:20.155094Z",
     "iopub.status.idle": "2025-03-03T10:30:39.630906Z",
     "shell.execute_reply": "2025-03-03T10:30:39.630021Z",
     "shell.execute_reply.started": "2025-03-03T10:26:20.155417Z"
    },
    "trusted": true
   },
   "outputs": [
    {
     "name": "stdout",
     "output_type": "stream",
     "text": [
      "Confusion Matrix:\n",
      "[[2273 1223]\n",
      " [ 362 3134]]\n",
      "\n",
      "Classification Report:\n",
      "              precision    recall  f1-score   support\n",
      "\n",
      "no oil spill       0.86      0.65      0.74      3496\n",
      "   oil spill       0.72      0.90      0.80      3496\n",
      "\n",
      "    accuracy                           0.77      6992\n",
      "   macro avg       0.79      0.77      0.77      6992\n",
      "weighted avg       0.79      0.77      0.77      6992\n",
      "\n",
      "Precision: 0.72\n",
      "Recall (Sensitivity, TPR): 0.90\n",
      "F1 Score: 0.80\n",
      "Cohen's Kappa: 0.55\n",
      "True Positive Rate (TPR): 0.90\n",
      "True Negative Rate (TNR): 0.65\n",
      "False Positive Rate (FPR): 0.35\n",
      "False Negative Rate (FNR): 0.10\n"
     ]
    },
    {
     "data": {
      "image/png": "[encoded data removed]",
      "text/plain": [
       "<Figure size 640x480 with 2 Axes>"
      ]
     },
     "metadata": {},
     "output_type": "display_data"
    }
   ],
   "source": [
    "import torch\n",
    "import numpy as np\n",
    "from sklearn.metrics import (\n",
    "    confusion_matrix,\n",
    "    ConfusionMatrixDisplay,\n",
    "    precision_score,\n",
    "    recall_score,\n",
    "    f1_score,\n",
    "    cohen_kappa_score,\n",
    "    classification_report\n",
    ")\n",
    "import matplotlib.pyplot as plt\n",
    "\n",
    "# Step 2: Evaluate and Collect Predictions\n",
    "model.eval()\n",
    "all_preds = []\n",
    "all_labels = []\n",
    "\n",
    "with torch.no_grad():  # Disable gradient computation\n",
    "    for images, labels in data_loader:\n",
    "        images, labels = images.to(device), labels.to(device)\n",
    "        outputs = model(images)\n",
    "        _, preds = torch.max(outputs, 1)  # Get predicted class\n",
    "        all_preds.extend(preds.cpu().numpy())\n",
    "        all_labels.extend(labels.cpu().numpy())\n",
    "\n",
    "# Step 3: Generate Confusion Matrix\n",
    "cm = confusion_matrix(all_labels, all_preds)\n",
    "class_names = ['no oil spill', 'oil spill']  # Replace with your class names if needed\n",
    "\n",
    "# Extract True Positives (TP), False Positives (FP), True Negatives (TN), False Negatives (FN)\n",
    "TP = cm[1, 1]\n",
    "FP = cm[0, 1]\n",
    "TN = cm[0, 0]\n",
    "FN = cm[1, 0]\n",
    "\n",
    "# Metrics Calculations\n",
    "precision = precision_score(all_labels, all_preds, average='binary')\n",
    "recall = recall_score(all_labels, all_preds, average='binary')\n",
    "f1 = f1_score(all_labels, all_preds, average='binary')\n",
    "kappa = cohen_kappa_score(all_labels, all_preds)\n",
    "TPR = TP / (TP + FN) if (TP + FN) > 0 else 0  # True Positive Rate (Sensitivity)\n",
    "TNR = TN / (TN + FP) if (TN + FP) > 0 else 0  # True Negative Rate (Specificity)\n",
    "FPR = FP / (FP + TN) if (FP + TN) > 0 else 0  # False Positive Rate\n",
    "FNR = FN / (FN + TP) if (FN + TP) > 0 else 0  # False Negative Rate\n",
    "\n",
    "# Display Metrics\n",
    "print(\"Confusion Matrix:\")\n",
    "print(cm)\n",
    "print(\"\\nClassification Report:\")\n",
    "print(classification_report(all_labels, all_preds, target_names=class_names))\n",
    "print(f\"Precision: {precision:.2f}\")\n",
    "print(f\"Recall (Sensitivity, TPR): {recall:.2f}\")\n",
    "print(f\"F1 Score: {f1:.2f}\")\n",
    "print(f\"Cohen's Kappa: {kappa:.2f}\")\n",
    "print(f\"True Positive Rate (TPR): {TPR:.2f}\")\n",
    "print(f\"True Negative Rate (TNR): {TNR:.2f}\")\n",
    "print(f\"False Positive Rate (FPR): {FPR:.2f}\")\n",
    "print(f\"False Negative Rate (FNR): {FNR:.2f}\")\n",
    "\n",
    "# Step 4: Plot Confusion Matrix\n",
    "disp = ConfusionMatrixDisplay(confusion_matrix=cm, display_labels=class_names)\n",
    "disp.plot(cmap=plt.cm.Blues)\n",
    "plt.title(\"Confusion Matrix\")\n",
    "plt.show()\n"
   ]
  }
 ],
 "metadata": {
  "kaggle": {
   "accelerator": "nvidiaTeslaT4",
   "dataSources": [
    {
     "datasetId": 6538042,
     "sourceId": 10565750,
     "sourceType": "datasetVersion"
    }
   ],
   "dockerImageVersionId": 30840,
   "isGpuEnabled": true,
   "isInternetEnabled": true,
   "language": "python",
   "sourceType": "notebook"
  },
  "kernelspec": {
   "display_name": "Python 3",
   "language": "python",
   "name": "python3"
  },
  "language_info": {
   "codemirror_mode": {
    "name": "ipython",
    "version": 3
   },
   "file_extension": ".py",
   "mimetype": "text/x-python",
   "name": "python",
   "nbconvert_exporter": "python",
   "pygments_lexer": "ipython3",
   "version": "3.10.12"
  }
 },
 "nbformat": 4,
 "nbformat_minor": 4
}
